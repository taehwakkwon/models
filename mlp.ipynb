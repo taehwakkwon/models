{
  "nbformat": 4,
  "nbformat_minor": 0,
  "metadata": {
    "colab": {
      "name": "mlp_권태확_T1006",
      "provenance": [],
      "collapsed_sections": []
    },
    "kernelspec": {
      "name": "python3",
      "display_name": "Python 3"
    },
    "accelerator": "GPU",
    "widgets": {
      "application/vnd.jupyter.widget-state+json": {
        "e53e2462107341b2952d451c3a3db846": {
          "model_module": "@jupyter-widgets/controls",
          "model_name": "HBoxModel",
          "state": {
            "_view_name": "HBoxView",
            "_dom_classes": [],
            "_model_name": "HBoxModel",
            "_view_module": "@jupyter-widgets/controls",
            "_model_module_version": "1.5.0",
            "_view_count": null,
            "_view_module_version": "1.5.0",
            "box_style": "",
            "layout": "IPY_MODEL_8d049824185747658c869d6802ca17e5",
            "_model_module": "@jupyter-widgets/controls",
            "children": [
              "IPY_MODEL_75055aab85f24a019600e48d1380ada4",
              "IPY_MODEL_a2942d60279a4b6496b9db99f4e7c3b8"
            ]
          }
        },
        "8d049824185747658c869d6802ca17e5": {
          "model_module": "@jupyter-widgets/base",
          "model_name": "LayoutModel",
          "state": {
            "_view_name": "LayoutView",
            "grid_template_rows": null,
            "right": null,
            "justify_content": null,
            "_view_module": "@jupyter-widgets/base",
            "overflow": null,
            "_model_module_version": "1.2.0",
            "_view_count": null,
            "flex_flow": null,
            "width": null,
            "min_width": null,
            "border": null,
            "align_items": null,
            "bottom": null,
            "_model_module": "@jupyter-widgets/base",
            "top": null,
            "grid_column": null,
            "overflow_y": null,
            "overflow_x": null,
            "grid_auto_flow": null,
            "grid_area": null,
            "grid_template_columns": null,
            "flex": null,
            "_model_name": "LayoutModel",
            "justify_items": null,
            "grid_row": null,
            "max_height": null,
            "align_content": null,
            "visibility": null,
            "align_self": null,
            "height": null,
            "min_height": null,
            "padding": null,
            "grid_auto_rows": null,
            "grid_gap": null,
            "max_width": null,
            "order": null,
            "_view_module_version": "1.2.0",
            "grid_template_areas": null,
            "object_position": null,
            "object_fit": null,
            "grid_auto_columns": null,
            "margin": null,
            "display": null,
            "left": null
          }
        },
        "75055aab85f24a019600e48d1380ada4": {
          "model_module": "@jupyter-widgets/controls",
          "model_name": "FloatProgressModel",
          "state": {
            "_view_name": "ProgressView",
            "style": "IPY_MODEL_4a992f63179a441bb7e853e277ef0df5",
            "_dom_classes": [],
            "description": "",
            "_model_name": "FloatProgressModel",
            "bar_style": "success",
            "max": 1,
            "_view_module": "@jupyter-widgets/controls",
            "_model_module_version": "1.5.0",
            "value": 1,
            "_view_count": null,
            "_view_module_version": "1.5.0",
            "orientation": "horizontal",
            "min": 0,
            "description_tooltip": null,
            "_model_module": "@jupyter-widgets/controls",
            "layout": "IPY_MODEL_2c98511b115f4402b2e608429a7caec2"
          }
        },
        "a2942d60279a4b6496b9db99f4e7c3b8": {
          "model_module": "@jupyter-widgets/controls",
          "model_name": "HTMLModel",
          "state": {
            "_view_name": "HTMLView",
            "style": "IPY_MODEL_087d7ee763e346fc9d08fea1abf4efc2",
            "_dom_classes": [],
            "description": "",
            "_model_name": "HTMLModel",
            "placeholder": "​",
            "_view_module": "@jupyter-widgets/controls",
            "_model_module_version": "1.5.0",
            "value": " 9920512/? [00:07&lt;00:00, 1388429.25it/s]",
            "_view_count": null,
            "_view_module_version": "1.5.0",
            "description_tooltip": null,
            "_model_module": "@jupyter-widgets/controls",
            "layout": "IPY_MODEL_a2ec7ad29086405ea358be9ebcba96aa"
          }
        },
        "4a992f63179a441bb7e853e277ef0df5": {
          "model_module": "@jupyter-widgets/controls",
          "model_name": "ProgressStyleModel",
          "state": {
            "_view_name": "StyleView",
            "_model_name": "ProgressStyleModel",
            "description_width": "initial",
            "_view_module": "@jupyter-widgets/base",
            "_model_module_version": "1.5.0",
            "_view_count": null,
            "_view_module_version": "1.2.0",
            "bar_color": null,
            "_model_module": "@jupyter-widgets/controls"
          }
        },
        "2c98511b115f4402b2e608429a7caec2": {
          "model_module": "@jupyter-widgets/base",
          "model_name": "LayoutModel",
          "state": {
            "_view_name": "LayoutView",
            "grid_template_rows": null,
            "right": null,
            "justify_content": null,
            "_view_module": "@jupyter-widgets/base",
            "overflow": null,
            "_model_module_version": "1.2.0",
            "_view_count": null,
            "flex_flow": null,
            "width": null,
            "min_width": null,
            "border": null,
            "align_items": null,
            "bottom": null,
            "_model_module": "@jupyter-widgets/base",
            "top": null,
            "grid_column": null,
            "overflow_y": null,
            "overflow_x": null,
            "grid_auto_flow": null,
            "grid_area": null,
            "grid_template_columns": null,
            "flex": null,
            "_model_name": "LayoutModel",
            "justify_items": null,
            "grid_row": null,
            "max_height": null,
            "align_content": null,
            "visibility": null,
            "align_self": null,
            "height": null,
            "min_height": null,
            "padding": null,
            "grid_auto_rows": null,
            "grid_gap": null,
            "max_width": null,
            "order": null,
            "_view_module_version": "1.2.0",
            "grid_template_areas": null,
            "object_position": null,
            "object_fit": null,
            "grid_auto_columns": null,
            "margin": null,
            "display": null,
            "left": null
          }
        },
        "087d7ee763e346fc9d08fea1abf4efc2": {
          "model_module": "@jupyter-widgets/controls",
          "model_name": "DescriptionStyleModel",
          "state": {
            "_view_name": "StyleView",
            "_model_name": "DescriptionStyleModel",
            "description_width": "",
            "_view_module": "@jupyter-widgets/base",
            "_model_module_version": "1.5.0",
            "_view_count": null,
            "_view_module_version": "1.2.0",
            "_model_module": "@jupyter-widgets/controls"
          }
        },
        "a2ec7ad29086405ea358be9ebcba96aa": {
          "model_module": "@jupyter-widgets/base",
          "model_name": "LayoutModel",
          "state": {
            "_view_name": "LayoutView",
            "grid_template_rows": null,
            "right": null,
            "justify_content": null,
            "_view_module": "@jupyter-widgets/base",
            "overflow": null,
            "_model_module_version": "1.2.0",
            "_view_count": null,
            "flex_flow": null,
            "width": null,
            "min_width": null,
            "border": null,
            "align_items": null,
            "bottom": null,
            "_model_module": "@jupyter-widgets/base",
            "top": null,
            "grid_column": null,
            "overflow_y": null,
            "overflow_x": null,
            "grid_auto_flow": null,
            "grid_area": null,
            "grid_template_columns": null,
            "flex": null,
            "_model_name": "LayoutModel",
            "justify_items": null,
            "grid_row": null,
            "max_height": null,
            "align_content": null,
            "visibility": null,
            "align_self": null,
            "height": null,
            "min_height": null,
            "padding": null,
            "grid_auto_rows": null,
            "grid_gap": null,
            "max_width": null,
            "order": null,
            "_view_module_version": "1.2.0",
            "grid_template_areas": null,
            "object_position": null,
            "object_fit": null,
            "grid_auto_columns": null,
            "margin": null,
            "display": null,
            "left": null
          }
        },
        "c8b093d8bae74f18b106b786e8abfee1": {
          "model_module": "@jupyter-widgets/controls",
          "model_name": "HBoxModel",
          "state": {
            "_view_name": "HBoxView",
            "_dom_classes": [],
            "_model_name": "HBoxModel",
            "_view_module": "@jupyter-widgets/controls",
            "_model_module_version": "1.5.0",
            "_view_count": null,
            "_view_module_version": "1.5.0",
            "box_style": "",
            "layout": "IPY_MODEL_f1ecc688075446848d7e9dca42111e5c",
            "_model_module": "@jupyter-widgets/controls",
            "children": [
              "IPY_MODEL_692a8048fd794427b8e03874fde95977",
              "IPY_MODEL_3745e28788c04781af473dedb05414fd"
            ]
          }
        },
        "f1ecc688075446848d7e9dca42111e5c": {
          "model_module": "@jupyter-widgets/base",
          "model_name": "LayoutModel",
          "state": {
            "_view_name": "LayoutView",
            "grid_template_rows": null,
            "right": null,
            "justify_content": null,
            "_view_module": "@jupyter-widgets/base",
            "overflow": null,
            "_model_module_version": "1.2.0",
            "_view_count": null,
            "flex_flow": null,
            "width": null,
            "min_width": null,
            "border": null,
            "align_items": null,
            "bottom": null,
            "_model_module": "@jupyter-widgets/base",
            "top": null,
            "grid_column": null,
            "overflow_y": null,
            "overflow_x": null,
            "grid_auto_flow": null,
            "grid_area": null,
            "grid_template_columns": null,
            "flex": null,
            "_model_name": "LayoutModel",
            "justify_items": null,
            "grid_row": null,
            "max_height": null,
            "align_content": null,
            "visibility": null,
            "align_self": null,
            "height": null,
            "min_height": null,
            "padding": null,
            "grid_auto_rows": null,
            "grid_gap": null,
            "max_width": null,
            "order": null,
            "_view_module_version": "1.2.0",
            "grid_template_areas": null,
            "object_position": null,
            "object_fit": null,
            "grid_auto_columns": null,
            "margin": null,
            "display": null,
            "left": null
          }
        },
        "692a8048fd794427b8e03874fde95977": {
          "model_module": "@jupyter-widgets/controls",
          "model_name": "FloatProgressModel",
          "state": {
            "_view_name": "ProgressView",
            "style": "IPY_MODEL_92bd64d59828474caddaa3ffd28b4b9e",
            "_dom_classes": [],
            "description": "",
            "_model_name": "FloatProgressModel",
            "bar_style": "success",
            "max": 1,
            "_view_module": "@jupyter-widgets/controls",
            "_model_module_version": "1.5.0",
            "value": 1,
            "_view_count": null,
            "_view_module_version": "1.5.0",
            "orientation": "horizontal",
            "min": 0,
            "description_tooltip": null,
            "_model_module": "@jupyter-widgets/controls",
            "layout": "IPY_MODEL_caffef5fff5749edb9c836d179f4a495"
          }
        },
        "3745e28788c04781af473dedb05414fd": {
          "model_module": "@jupyter-widgets/controls",
          "model_name": "HTMLModel",
          "state": {
            "_view_name": "HTMLView",
            "style": "IPY_MODEL_768403862e974a12a7d08b1463e39c67",
            "_dom_classes": [],
            "description": "",
            "_model_name": "HTMLModel",
            "placeholder": "​",
            "_view_module": "@jupyter-widgets/controls",
            "_model_module_version": "1.5.0",
            "value": " 32768/? [00:02&lt;00:00, 15904.98it/s]",
            "_view_count": null,
            "_view_module_version": "1.5.0",
            "description_tooltip": null,
            "_model_module": "@jupyter-widgets/controls",
            "layout": "IPY_MODEL_75dea38368724bc3a9384030fc116c10"
          }
        },
        "92bd64d59828474caddaa3ffd28b4b9e": {
          "model_module": "@jupyter-widgets/controls",
          "model_name": "ProgressStyleModel",
          "state": {
            "_view_name": "StyleView",
            "_model_name": "ProgressStyleModel",
            "description_width": "initial",
            "_view_module": "@jupyter-widgets/base",
            "_model_module_version": "1.5.0",
            "_view_count": null,
            "_view_module_version": "1.2.0",
            "bar_color": null,
            "_model_module": "@jupyter-widgets/controls"
          }
        },
        "caffef5fff5749edb9c836d179f4a495": {
          "model_module": "@jupyter-widgets/base",
          "model_name": "LayoutModel",
          "state": {
            "_view_name": "LayoutView",
            "grid_template_rows": null,
            "right": null,
            "justify_content": null,
            "_view_module": "@jupyter-widgets/base",
            "overflow": null,
            "_model_module_version": "1.2.0",
            "_view_count": null,
            "flex_flow": null,
            "width": null,
            "min_width": null,
            "border": null,
            "align_items": null,
            "bottom": null,
            "_model_module": "@jupyter-widgets/base",
            "top": null,
            "grid_column": null,
            "overflow_y": null,
            "overflow_x": null,
            "grid_auto_flow": null,
            "grid_area": null,
            "grid_template_columns": null,
            "flex": null,
            "_model_name": "LayoutModel",
            "justify_items": null,
            "grid_row": null,
            "max_height": null,
            "align_content": null,
            "visibility": null,
            "align_self": null,
            "height": null,
            "min_height": null,
            "padding": null,
            "grid_auto_rows": null,
            "grid_gap": null,
            "max_width": null,
            "order": null,
            "_view_module_version": "1.2.0",
            "grid_template_areas": null,
            "object_position": null,
            "object_fit": null,
            "grid_auto_columns": null,
            "margin": null,
            "display": null,
            "left": null
          }
        },
        "768403862e974a12a7d08b1463e39c67": {
          "model_module": "@jupyter-widgets/controls",
          "model_name": "DescriptionStyleModel",
          "state": {
            "_view_name": "StyleView",
            "_model_name": "DescriptionStyleModel",
            "description_width": "",
            "_view_module": "@jupyter-widgets/base",
            "_model_module_version": "1.5.0",
            "_view_count": null,
            "_view_module_version": "1.2.0",
            "_model_module": "@jupyter-widgets/controls"
          }
        },
        "75dea38368724bc3a9384030fc116c10": {
          "model_module": "@jupyter-widgets/base",
          "model_name": "LayoutModel",
          "state": {
            "_view_name": "LayoutView",
            "grid_template_rows": null,
            "right": null,
            "justify_content": null,
            "_view_module": "@jupyter-widgets/base",
            "overflow": null,
            "_model_module_version": "1.2.0",
            "_view_count": null,
            "flex_flow": null,
            "width": null,
            "min_width": null,
            "border": null,
            "align_items": null,
            "bottom": null,
            "_model_module": "@jupyter-widgets/base",
            "top": null,
            "grid_column": null,
            "overflow_y": null,
            "overflow_x": null,
            "grid_auto_flow": null,
            "grid_area": null,
            "grid_template_columns": null,
            "flex": null,
            "_model_name": "LayoutModel",
            "justify_items": null,
            "grid_row": null,
            "max_height": null,
            "align_content": null,
            "visibility": null,
            "align_self": null,
            "height": null,
            "min_height": null,
            "padding": null,
            "grid_auto_rows": null,
            "grid_gap": null,
            "max_width": null,
            "order": null,
            "_view_module_version": "1.2.0",
            "grid_template_areas": null,
            "object_position": null,
            "object_fit": null,
            "grid_auto_columns": null,
            "margin": null,
            "display": null,
            "left": null
          }
        },
        "c2130edda42f4eaa922382bb01d24877": {
          "model_module": "@jupyter-widgets/controls",
          "model_name": "HBoxModel",
          "state": {
            "_view_name": "HBoxView",
            "_dom_classes": [],
            "_model_name": "HBoxModel",
            "_view_module": "@jupyter-widgets/controls",
            "_model_module_version": "1.5.0",
            "_view_count": null,
            "_view_module_version": "1.5.0",
            "box_style": "",
            "layout": "IPY_MODEL_ce1925feae9843fdb1617f8c94dcf2e6",
            "_model_module": "@jupyter-widgets/controls",
            "children": [
              "IPY_MODEL_f8258edaf00e4b77abb5e8fc0f2586a9",
              "IPY_MODEL_04fcbb3fb8154e24bb98f046e60624d4"
            ]
          }
        },
        "ce1925feae9843fdb1617f8c94dcf2e6": {
          "model_module": "@jupyter-widgets/base",
          "model_name": "LayoutModel",
          "state": {
            "_view_name": "LayoutView",
            "grid_template_rows": null,
            "right": null,
            "justify_content": null,
            "_view_module": "@jupyter-widgets/base",
            "overflow": null,
            "_model_module_version": "1.2.0",
            "_view_count": null,
            "flex_flow": null,
            "width": null,
            "min_width": null,
            "border": null,
            "align_items": null,
            "bottom": null,
            "_model_module": "@jupyter-widgets/base",
            "top": null,
            "grid_column": null,
            "overflow_y": null,
            "overflow_x": null,
            "grid_auto_flow": null,
            "grid_area": null,
            "grid_template_columns": null,
            "flex": null,
            "_model_name": "LayoutModel",
            "justify_items": null,
            "grid_row": null,
            "max_height": null,
            "align_content": null,
            "visibility": null,
            "align_self": null,
            "height": null,
            "min_height": null,
            "padding": null,
            "grid_auto_rows": null,
            "grid_gap": null,
            "max_width": null,
            "order": null,
            "_view_module_version": "1.2.0",
            "grid_template_areas": null,
            "object_position": null,
            "object_fit": null,
            "grid_auto_columns": null,
            "margin": null,
            "display": null,
            "left": null
          }
        },
        "f8258edaf00e4b77abb5e8fc0f2586a9": {
          "model_module": "@jupyter-widgets/controls",
          "model_name": "FloatProgressModel",
          "state": {
            "_view_name": "ProgressView",
            "style": "IPY_MODEL_95e5b9436ffd47e59bc975cd23976d70",
            "_dom_classes": [],
            "description": "",
            "_model_name": "FloatProgressModel",
            "bar_style": "success",
            "max": 1,
            "_view_module": "@jupyter-widgets/controls",
            "_model_module_version": "1.5.0",
            "value": 1,
            "_view_count": null,
            "_view_module_version": "1.5.0",
            "orientation": "horizontal",
            "min": 0,
            "description_tooltip": null,
            "_model_module": "@jupyter-widgets/controls",
            "layout": "IPY_MODEL_e8583c043a8140e7a40c90a4b9ba2e27"
          }
        },
        "04fcbb3fb8154e24bb98f046e60624d4": {
          "model_module": "@jupyter-widgets/controls",
          "model_name": "HTMLModel",
          "state": {
            "_view_name": "HTMLView",
            "style": "IPY_MODEL_6493ea2aacd8409f9b1d07a2ad313869",
            "_dom_classes": [],
            "description": "",
            "_model_name": "HTMLModel",
            "placeholder": "​",
            "_view_module": "@jupyter-widgets/controls",
            "_model_module_version": "1.5.0",
            "value": " 1654784/? [00:01&lt;00:00, 1024857.67it/s]",
            "_view_count": null,
            "_view_module_version": "1.5.0",
            "description_tooltip": null,
            "_model_module": "@jupyter-widgets/controls",
            "layout": "IPY_MODEL_cdd23b65142a4c9181d74aff0f3f53cc"
          }
        },
        "95e5b9436ffd47e59bc975cd23976d70": {
          "model_module": "@jupyter-widgets/controls",
          "model_name": "ProgressStyleModel",
          "state": {
            "_view_name": "StyleView",
            "_model_name": "ProgressStyleModel",
            "description_width": "initial",
            "_view_module": "@jupyter-widgets/base",
            "_model_module_version": "1.5.0",
            "_view_count": null,
            "_view_module_version": "1.2.0",
            "bar_color": null,
            "_model_module": "@jupyter-widgets/controls"
          }
        },
        "e8583c043a8140e7a40c90a4b9ba2e27": {
          "model_module": "@jupyter-widgets/base",
          "model_name": "LayoutModel",
          "state": {
            "_view_name": "LayoutView",
            "grid_template_rows": null,
            "right": null,
            "justify_content": null,
            "_view_module": "@jupyter-widgets/base",
            "overflow": null,
            "_model_module_version": "1.2.0",
            "_view_count": null,
            "flex_flow": null,
            "width": null,
            "min_width": null,
            "border": null,
            "align_items": null,
            "bottom": null,
            "_model_module": "@jupyter-widgets/base",
            "top": null,
            "grid_column": null,
            "overflow_y": null,
            "overflow_x": null,
            "grid_auto_flow": null,
            "grid_area": null,
            "grid_template_columns": null,
            "flex": null,
            "_model_name": "LayoutModel",
            "justify_items": null,
            "grid_row": null,
            "max_height": null,
            "align_content": null,
            "visibility": null,
            "align_self": null,
            "height": null,
            "min_height": null,
            "padding": null,
            "grid_auto_rows": null,
            "grid_gap": null,
            "max_width": null,
            "order": null,
            "_view_module_version": "1.2.0",
            "grid_template_areas": null,
            "object_position": null,
            "object_fit": null,
            "grid_auto_columns": null,
            "margin": null,
            "display": null,
            "left": null
          }
        },
        "6493ea2aacd8409f9b1d07a2ad313869": {
          "model_module": "@jupyter-widgets/controls",
          "model_name": "DescriptionStyleModel",
          "state": {
            "_view_name": "StyleView",
            "_model_name": "DescriptionStyleModel",
            "description_width": "",
            "_view_module": "@jupyter-widgets/base",
            "_model_module_version": "1.5.0",
            "_view_count": null,
            "_view_module_version": "1.2.0",
            "_model_module": "@jupyter-widgets/controls"
          }
        },
        "cdd23b65142a4c9181d74aff0f3f53cc": {
          "model_module": "@jupyter-widgets/base",
          "model_name": "LayoutModel",
          "state": {
            "_view_name": "LayoutView",
            "grid_template_rows": null,
            "right": null,
            "justify_content": null,
            "_view_module": "@jupyter-widgets/base",
            "overflow": null,
            "_model_module_version": "1.2.0",
            "_view_count": null,
            "flex_flow": null,
            "width": null,
            "min_width": null,
            "border": null,
            "align_items": null,
            "bottom": null,
            "_model_module": "@jupyter-widgets/base",
            "top": null,
            "grid_column": null,
            "overflow_y": null,
            "overflow_x": null,
            "grid_auto_flow": null,
            "grid_area": null,
            "grid_template_columns": null,
            "flex": null,
            "_model_name": "LayoutModel",
            "justify_items": null,
            "grid_row": null,
            "max_height": null,
            "align_content": null,
            "visibility": null,
            "align_self": null,
            "height": null,
            "min_height": null,
            "padding": null,
            "grid_auto_rows": null,
            "grid_gap": null,
            "max_width": null,
            "order": null,
            "_view_module_version": "1.2.0",
            "grid_template_areas": null,
            "object_position": null,
            "object_fit": null,
            "grid_auto_columns": null,
            "margin": null,
            "display": null,
            "left": null
          }
        },
        "d57bf6c252ab476fa2a10e2384533b3c": {
          "model_module": "@jupyter-widgets/controls",
          "model_name": "HBoxModel",
          "state": {
            "_view_name": "HBoxView",
            "_dom_classes": [],
            "_model_name": "HBoxModel",
            "_view_module": "@jupyter-widgets/controls",
            "_model_module_version": "1.5.0",
            "_view_count": null,
            "_view_module_version": "1.5.0",
            "box_style": "",
            "layout": "IPY_MODEL_2a81272e759246d29f86cbf7889ca449",
            "_model_module": "@jupyter-widgets/controls",
            "children": [
              "IPY_MODEL_79e2676f1a454c0e81721df6396986fc",
              "IPY_MODEL_a0f14718a4324214acb6a0a949746c1f"
            ]
          }
        },
        "2a81272e759246d29f86cbf7889ca449": {
          "model_module": "@jupyter-widgets/base",
          "model_name": "LayoutModel",
          "state": {
            "_view_name": "LayoutView",
            "grid_template_rows": null,
            "right": null,
            "justify_content": null,
            "_view_module": "@jupyter-widgets/base",
            "overflow": null,
            "_model_module_version": "1.2.0",
            "_view_count": null,
            "flex_flow": null,
            "width": null,
            "min_width": null,
            "border": null,
            "align_items": null,
            "bottom": null,
            "_model_module": "@jupyter-widgets/base",
            "top": null,
            "grid_column": null,
            "overflow_y": null,
            "overflow_x": null,
            "grid_auto_flow": null,
            "grid_area": null,
            "grid_template_columns": null,
            "flex": null,
            "_model_name": "LayoutModel",
            "justify_items": null,
            "grid_row": null,
            "max_height": null,
            "align_content": null,
            "visibility": null,
            "align_self": null,
            "height": null,
            "min_height": null,
            "padding": null,
            "grid_auto_rows": null,
            "grid_gap": null,
            "max_width": null,
            "order": null,
            "_view_module_version": "1.2.0",
            "grid_template_areas": null,
            "object_position": null,
            "object_fit": null,
            "grid_auto_columns": null,
            "margin": null,
            "display": null,
            "left": null
          }
        },
        "79e2676f1a454c0e81721df6396986fc": {
          "model_module": "@jupyter-widgets/controls",
          "model_name": "FloatProgressModel",
          "state": {
            "_view_name": "ProgressView",
            "style": "IPY_MODEL_2fcb6d28b7af4253aa1b56d4234afc91",
            "_dom_classes": [],
            "description": "",
            "_model_name": "FloatProgressModel",
            "bar_style": "success",
            "max": 1,
            "_view_module": "@jupyter-widgets/controls",
            "_model_module_version": "1.5.0",
            "value": 1,
            "_view_count": null,
            "_view_module_version": "1.5.0",
            "orientation": "horizontal",
            "min": 0,
            "description_tooltip": null,
            "_model_module": "@jupyter-widgets/controls",
            "layout": "IPY_MODEL_e75ca81f56c94f1a80939ec08d9e3d48"
          }
        },
        "a0f14718a4324214acb6a0a949746c1f": {
          "model_module": "@jupyter-widgets/controls",
          "model_name": "HTMLModel",
          "state": {
            "_view_name": "HTMLView",
            "style": "IPY_MODEL_e42bc71c2b3b43f1b3f0ce03ad992ba7",
            "_dom_classes": [],
            "description": "",
            "_model_name": "HTMLModel",
            "placeholder": "​",
            "_view_module": "@jupyter-widgets/controls",
            "_model_module_version": "1.5.0",
            "value": " 8192/? [00:00&lt;00:00, 16784.03it/s]",
            "_view_count": null,
            "_view_module_version": "1.5.0",
            "description_tooltip": null,
            "_model_module": "@jupyter-widgets/controls",
            "layout": "IPY_MODEL_5779b33b06d348b697fb1f776b2f42fc"
          }
        },
        "2fcb6d28b7af4253aa1b56d4234afc91": {
          "model_module": "@jupyter-widgets/controls",
          "model_name": "ProgressStyleModel",
          "state": {
            "_view_name": "StyleView",
            "_model_name": "ProgressStyleModel",
            "description_width": "initial",
            "_view_module": "@jupyter-widgets/base",
            "_model_module_version": "1.5.0",
            "_view_count": null,
            "_view_module_version": "1.2.0",
            "bar_color": null,
            "_model_module": "@jupyter-widgets/controls"
          }
        },
        "e75ca81f56c94f1a80939ec08d9e3d48": {
          "model_module": "@jupyter-widgets/base",
          "model_name": "LayoutModel",
          "state": {
            "_view_name": "LayoutView",
            "grid_template_rows": null,
            "right": null,
            "justify_content": null,
            "_view_module": "@jupyter-widgets/base",
            "overflow": null,
            "_model_module_version": "1.2.0",
            "_view_count": null,
            "flex_flow": null,
            "width": null,
            "min_width": null,
            "border": null,
            "align_items": null,
            "bottom": null,
            "_model_module": "@jupyter-widgets/base",
            "top": null,
            "grid_column": null,
            "overflow_y": null,
            "overflow_x": null,
            "grid_auto_flow": null,
            "grid_area": null,
            "grid_template_columns": null,
            "flex": null,
            "_model_name": "LayoutModel",
            "justify_items": null,
            "grid_row": null,
            "max_height": null,
            "align_content": null,
            "visibility": null,
            "align_self": null,
            "height": null,
            "min_height": null,
            "padding": null,
            "grid_auto_rows": null,
            "grid_gap": null,
            "max_width": null,
            "order": null,
            "_view_module_version": "1.2.0",
            "grid_template_areas": null,
            "object_position": null,
            "object_fit": null,
            "grid_auto_columns": null,
            "margin": null,
            "display": null,
            "left": null
          }
        },
        "e42bc71c2b3b43f1b3f0ce03ad992ba7": {
          "model_module": "@jupyter-widgets/controls",
          "model_name": "DescriptionStyleModel",
          "state": {
            "_view_name": "StyleView",
            "_model_name": "DescriptionStyleModel",
            "description_width": "",
            "_view_module": "@jupyter-widgets/base",
            "_model_module_version": "1.5.0",
            "_view_count": null,
            "_view_module_version": "1.2.0",
            "_model_module": "@jupyter-widgets/controls"
          }
        },
        "5779b33b06d348b697fb1f776b2f42fc": {
          "model_module": "@jupyter-widgets/base",
          "model_name": "LayoutModel",
          "state": {
            "_view_name": "LayoutView",
            "grid_template_rows": null,
            "right": null,
            "justify_content": null,
            "_view_module": "@jupyter-widgets/base",
            "overflow": null,
            "_model_module_version": "1.2.0",
            "_view_count": null,
            "flex_flow": null,
            "width": null,
            "min_width": null,
            "border": null,
            "align_items": null,
            "bottom": null,
            "_model_module": "@jupyter-widgets/base",
            "top": null,
            "grid_column": null,
            "overflow_y": null,
            "overflow_x": null,
            "grid_auto_flow": null,
            "grid_area": null,
            "grid_template_columns": null,
            "flex": null,
            "_model_name": "LayoutModel",
            "justify_items": null,
            "grid_row": null,
            "max_height": null,
            "align_content": null,
            "visibility": null,
            "align_self": null,
            "height": null,
            "min_height": null,
            "padding": null,
            "grid_auto_rows": null,
            "grid_gap": null,
            "max_width": null,
            "order": null,
            "_view_module_version": "1.2.0",
            "grid_template_areas": null,
            "object_position": null,
            "object_fit": null,
            "grid_auto_columns": null,
            "margin": null,
            "display": null,
            "left": null
          }
        }
      }
    }
  },
  "cells": [
    {
      "cell_type": "markdown",
      "metadata": {
        "id": "ZcyiVUeZr2cJ"
      },
      "source": [
        "<table class=\"tfo-notebook-buttons\" align=\"left\">\n",
        "  <td>\n",
        "    <a target=\"_blank\" href=\"https://colab.research.google.com/github/sjchoi86/upstage-basic-deeplearning/blob/main/notebook/mlp.ipynb\"><img src=\"https://www.tensorflow.org/images/colab_logo_32px.png\" />Colab</a>\n",
        "  </td>\n",
        "  <td>\n",
        "    <a target=\"_blank\" href=\"https://github.com/sjchoi86/upstage-basic-deeplearning/blob/main/notebook/mlp.ipynb\"><img src=\"https://www.tensorflow.org/images/GitHub-Mark-32px.png\" />View Source</a>\n",
        "  </td>\n",
        "</table>"
      ]
    },
    {
      "cell_type": "markdown",
      "metadata": {
        "id": "w0aqRluNsI38"
      },
      "source": [
        "# Multilayer Perceptron (MLP)"
      ]
    },
    {
      "cell_type": "code",
      "metadata": {
        "id": "EXxbX-Diq9rq",
        "colab": {
          "base_uri": "https://localhost:8080/"
        },
        "outputId": "62a610c3-6b6f-4da5-e4d1-cc0f001f211a"
      },
      "source": [
        "import numpy as np\n",
        "import matplotlib.pyplot as plt\n",
        "import torch\n",
        "import torch.nn as nn\n",
        "import torch.optim as optim\n",
        "import torch.nn.functional as F\n",
        "%matplotlib inline\n",
        "%config InlineBackend.figure_format='retina'\n",
        "print (\"PyTorch version:[%s].\"%(torch.__version__))\n",
        "device = torch.device('cuda:0' if torch.cuda.is_available() else 'cpu')\n",
        "print (\"device:[%s].\"%(device))"
      ],
      "execution_count": null,
      "outputs": [
        {
          "output_type": "stream",
          "text": [
            "PyTorch version:[1.7.0+cu101].\n",
            "device:[cuda:0].\n"
          ],
          "name": "stdout"
        }
      ]
    },
    {
      "cell_type": "markdown",
      "metadata": {
        "id": "7HWvC0ZltF8a"
      },
      "source": [
        "### Dataset"
      ]
    },
    {
      "cell_type": "code",
      "metadata": {
        "id": "uaokkwJwsN5I",
        "colab": {
          "base_uri": "https://localhost:8080/",
          "height": 759,
          "referenced_widgets": [
            "e53e2462107341b2952d451c3a3db846",
            "8d049824185747658c869d6802ca17e5",
            "75055aab85f24a019600e48d1380ada4",
            "a2942d60279a4b6496b9db99f4e7c3b8",
            "4a992f63179a441bb7e853e277ef0df5",
            "2c98511b115f4402b2e608429a7caec2",
            "087d7ee763e346fc9d08fea1abf4efc2",
            "a2ec7ad29086405ea358be9ebcba96aa",
            "c8b093d8bae74f18b106b786e8abfee1",
            "f1ecc688075446848d7e9dca42111e5c",
            "692a8048fd794427b8e03874fde95977",
            "3745e28788c04781af473dedb05414fd",
            "92bd64d59828474caddaa3ffd28b4b9e",
            "caffef5fff5749edb9c836d179f4a495",
            "768403862e974a12a7d08b1463e39c67",
            "75dea38368724bc3a9384030fc116c10",
            "c2130edda42f4eaa922382bb01d24877",
            "ce1925feae9843fdb1617f8c94dcf2e6",
            "f8258edaf00e4b77abb5e8fc0f2586a9",
            "04fcbb3fb8154e24bb98f046e60624d4",
            "95e5b9436ffd47e59bc975cd23976d70",
            "e8583c043a8140e7a40c90a4b9ba2e27",
            "6493ea2aacd8409f9b1d07a2ad313869",
            "cdd23b65142a4c9181d74aff0f3f53cc",
            "d57bf6c252ab476fa2a10e2384533b3c",
            "2a81272e759246d29f86cbf7889ca449",
            "79e2676f1a454c0e81721df6396986fc",
            "a0f14718a4324214acb6a0a949746c1f",
            "2fcb6d28b7af4253aa1b56d4234afc91",
            "e75ca81f56c94f1a80939ec08d9e3d48",
            "e42bc71c2b3b43f1b3f0ce03ad992ba7",
            "5779b33b06d348b697fb1f776b2f42fc"
          ]
        },
        "outputId": "86c843e9-dd66-4381-e5ca-892b87cb8e02"
      },
      "source": [
        "from torchvision import datasets,transforms\n",
        "mnist_train = datasets.MNIST(root='./data/',train=True,transform=transforms.ToTensor(),download=True)\n",
        "mnist_test = datasets.MNIST(root='./data/',train=False,transform=transforms.ToTensor(),download=True)\n",
        "print (\"mnist_train:\\n\",mnist_train,\"\\n\")\n",
        "print (\"mnist_test:\\n\",mnist_test,\"\\n\")\n",
        "print (\"Done.\")"
      ],
      "execution_count": null,
      "outputs": [
        {
          "output_type": "stream",
          "text": [
            "Downloading http://yann.lecun.com/exdb/mnist/train-images-idx3-ubyte.gz to ./data/MNIST/raw/train-images-idx3-ubyte.gz\n"
          ],
          "name": "stdout"
        },
        {
          "output_type": "display_data",
          "data": {
            "application/vnd.jupyter.widget-view+json": {
              "model_id": "e53e2462107341b2952d451c3a3db846",
              "version_minor": 0,
              "version_major": 2
            },
            "text/plain": [
              "HBox(children=(FloatProgress(value=1.0, bar_style='info', max=1.0), HTML(value='')))"
            ]
          },
          "metadata": {
            "tags": []
          }
        },
        {
          "output_type": "stream",
          "text": [
            "Extracting ./data/MNIST/raw/train-images-idx3-ubyte.gz to ./data/MNIST/raw\n",
            "Downloading http://yann.lecun.com/exdb/mnist/train-labels-idx1-ubyte.gz to ./data/MNIST/raw/train-labels-idx1-ubyte.gz\n"
          ],
          "name": "stdout"
        },
        {
          "output_type": "display_data",
          "data": {
            "application/vnd.jupyter.widget-view+json": {
              "model_id": "c8b093d8bae74f18b106b786e8abfee1",
              "version_minor": 0,
              "version_major": 2
            },
            "text/plain": [
              "HBox(children=(FloatProgress(value=1.0, bar_style='info', max=1.0), HTML(value='')))"
            ]
          },
          "metadata": {
            "tags": []
          }
        },
        {
          "output_type": "stream",
          "text": [
            "Extracting ./data/MNIST/raw/train-labels-idx1-ubyte.gz to ./data/MNIST/raw\n",
            "Downloading http://yann.lecun.com/exdb/mnist/t10k-images-idx3-ubyte.gz to ./data/MNIST/raw/t10k-images-idx3-ubyte.gz\n"
          ],
          "name": "stdout"
        },
        {
          "output_type": "display_data",
          "data": {
            "application/vnd.jupyter.widget-view+json": {
              "model_id": "c2130edda42f4eaa922382bb01d24877",
              "version_minor": 0,
              "version_major": 2
            },
            "text/plain": [
              "HBox(children=(FloatProgress(value=1.0, bar_style='info', max=1.0), HTML(value='')))"
            ]
          },
          "metadata": {
            "tags": []
          }
        },
        {
          "output_type": "stream",
          "text": [
            "Extracting ./data/MNIST/raw/t10k-images-idx3-ubyte.gz to ./data/MNIST/raw\n",
            "Downloading http://yann.lecun.com/exdb/mnist/t10k-labels-idx1-ubyte.gz to ./data/MNIST/raw/t10k-labels-idx1-ubyte.gz\n"
          ],
          "name": "stdout"
        },
        {
          "output_type": "display_data",
          "data": {
            "application/vnd.jupyter.widget-view+json": {
              "model_id": "d57bf6c252ab476fa2a10e2384533b3c",
              "version_minor": 0,
              "version_major": 2
            },
            "text/plain": [
              "HBox(children=(FloatProgress(value=1.0, bar_style='info', max=1.0), HTML(value='')))"
            ]
          },
          "metadata": {
            "tags": []
          }
        },
        {
          "output_type": "stream",
          "text": [
            "Extracting ./data/MNIST/raw/t10k-labels-idx1-ubyte.gz to ./data/MNIST/raw\n",
            "Processing...\n",
            "\n",
            "\n",
            "\n",
            "\n",
            "Done!\n",
            "mnist_train:\n",
            " Dataset MNIST\n",
            "    Number of datapoints: 60000\n",
            "    Root location: ./data/\n",
            "    Split: Train\n",
            "    StandardTransform\n",
            "Transform: ToTensor() \n",
            "\n",
            "mnist_test:\n",
            " Dataset MNIST\n",
            "    Number of datapoints: 10000\n",
            "    Root location: ./data/\n",
            "    Split: Test\n",
            "    StandardTransform\n",
            "Transform: ToTensor() \n",
            "\n",
            "Done.\n"
          ],
          "name": "stdout"
        },
        {
          "output_type": "stream",
          "text": [
            "/usr/local/lib/python3.6/dist-packages/torchvision/datasets/mnist.py:480: UserWarning: The given NumPy array is not writeable, and PyTorch does not support non-writeable tensors. This means you can write to the underlying (supposedly non-writeable) NumPy array using the tensor. You may want to copy the array to protect its data or make it writeable before converting it to a tensor. This type of warning will be suppressed for the rest of this program. (Triggered internally at  /pytorch/torch/csrc/utils/tensor_numpy.cpp:141.)\n",
            "  return torch.from_numpy(parsed.astype(m[2], copy=False)).view(*s)\n"
          ],
          "name": "stderr"
        }
      ]
    },
    {
      "cell_type": "markdown",
      "metadata": {
        "id": "A4lP2QQoBXGw"
      },
      "source": [
        "### Data Iterator"
      ]
    },
    {
      "cell_type": "code",
      "metadata": {
        "id": "_0TKrHSCBWzm",
        "colab": {
          "base_uri": "https://localhost:8080/"
        },
        "outputId": "dbcc1d04-3523-46a5-9d71-e4047b1407a4"
      },
      "source": [
        "BATCH_SIZE = 256\n",
        "train_iter = torch.utils.data.DataLoader(mnist_train,batch_size=BATCH_SIZE,shuffle=True,num_workers=1)\n",
        "test_iter = torch.utils.data.DataLoader(mnist_test,batch_size=BATCH_SIZE,shuffle=True,num_workers=1)\n",
        "print (\"Done.\")"
      ],
      "execution_count": null,
      "outputs": [
        {
          "output_type": "stream",
          "text": [
            "Done.\n"
          ],
          "name": "stdout"
        }
      ]
    },
    {
      "cell_type": "markdown",
      "metadata": {
        "id": "081T7_3lvk-N"
      },
      "source": [
        "### Define the MLP model"
      ]
    },
    {
      "cell_type": "code",
      "metadata": {
        "id": "U4mWpPXouPCR",
        "colab": {
          "base_uri": "https://localhost:8080/"
        },
        "outputId": "e9396e4b-8613-4b2e-d742-24f4b3cd77b4"
      },
      "source": [
        "class MultiLayerPerceptronClass(nn.Module):\n",
        "    \"\"\"\n",
        "        Multilayer Perceptron (MLP) Class\n",
        "    \"\"\"\n",
        "    def __init__(self,name='mlp',xdim=784,hdim=256,ydim=10):\n",
        "        super(MultiLayerPerceptronClass,self).__init__()\n",
        "        self.name = name\n",
        "        self.xdim = xdim\n",
        "        self.hdim = hdim\n",
        "        self.ydim = ydim\n",
        "        self.lin_1 = nn.Linear(\n",
        "            self.xdim, self.hdim\n",
        "        )\n",
        "        self.lin_2 = nn.Linear(\n",
        "            self.hdim, self.hdim\n",
        "        )\n",
        "        self.init_param() # initialize parameters\n",
        "        \n",
        "    def init_param(self):\n",
        "        nn.init.kaiming_normal_(self.lin_1.weight)\n",
        "        nn.init.zeros_(self.lin_1.bias)\n",
        "        nn.init.kaiming_normal_(self.lin_2.weight)\n",
        "        nn.init.zeros_(self.lin_2.bias)\n",
        "\n",
        "    def forward(self,x):\n",
        "        net = x\n",
        "        net = self.lin_1(net)\n",
        "        net = F.relu(net)\n",
        "        net = self.lin_2(net)\n",
        "        return net\n",
        "\n",
        "M = MultiLayerPerceptronClass(name='mlp',xdim=784,hdim=256,ydim=10).to(device)\n",
        "loss = nn.CrossEntropyLoss()\n",
        "optm = optim.Adam(M.parameters(),lr=1e-3)\n",
        "print (\"Done.\")"
      ],
      "execution_count": null,
      "outputs": [
        {
          "output_type": "stream",
          "text": [
            "Done.\n"
          ],
          "name": "stdout"
        }
      ]
    },
    {
      "cell_type": "markdown",
      "metadata": {
        "id": "FrPPFQi56NDk"
      },
      "source": [
        "### Simple Forward Path of the MLP Model"
      ]
    },
    {
      "cell_type": "code",
      "metadata": {
        "id": "0rOz8a1Gw1Xi",
        "colab": {
          "base_uri": "https://localhost:8080/"
        },
        "outputId": "55d0a21b-b0ac-4739-f733-34e4fa58fce1"
      },
      "source": [
        "x_numpy = np.random.rand(2,784)\n",
        "x_torch = torch.from_numpy(x_numpy).float().to(device)\n",
        "y_torch = M.forward(x_torch) # forward path\n",
        "y_numpy = y_torch.detach().cpu().numpy() # torch tensor to numpy array\n",
        "print (\"x_numpy:\\n\",x_numpy)\n",
        "print (\"x_torch:\\n\",x_torch)\n",
        "print (\"y_torch:\\n\",y_torch)\n",
        "print (\"y_numpy:\\n\",y_numpy)"
      ],
      "execution_count": null,
      "outputs": [
        {
          "output_type": "stream",
          "text": [
            "x_numpy:\n",
            " [[0.92283271 0.69943309 0.26836328 ... 0.5052911  0.47503992 0.20073016]\n",
            " [0.21548629 0.3507346  0.96309984 ... 0.18926833 0.63554649 0.77822081]]\n",
            "x_torch:\n",
            " tensor([[0.9228, 0.6994, 0.2684,  ..., 0.5053, 0.4750, 0.2007],\n",
            "        [0.2155, 0.3507, 0.9631,  ..., 0.1893, 0.6355, 0.7782]],\n",
            "       device='cuda:0')\n",
            "y_torch:\n",
            " tensor([[-0.0360,  0.3434, -0.1622, -0.0589,  0.1938,  0.9181, -0.7738,  0.0636,\n",
            "         -0.3213,  0.1552,  0.8354,  0.6537,  0.4924, -0.0989, -0.1838,  0.1385,\n",
            "         -0.3407, -0.2753, -0.5827, -0.7910, -2.2492, -0.4723,  0.8670, -0.5638,\n",
            "          1.3933, -0.1185,  1.5385, -0.3305, -0.9705, -0.6342,  0.0462, -1.6300,\n",
            "          0.1335, -0.2779, -0.1228, -1.2168,  0.9268, -0.3179, -0.4833, -0.3480,\n",
            "          0.3993,  0.0163,  0.9104,  0.0691,  1.0723, -0.4101, -0.8610, -0.7311,\n",
            "          0.1635, -1.5529, -1.0060,  1.0068, -0.3117,  0.0697,  0.1613,  1.4168,\n",
            "          0.9476, -0.4033, -0.5991,  0.5185, -2.3587, -0.1205, -1.1788,  2.2021,\n",
            "          0.3700, -0.2827,  0.6292,  0.9862,  0.4394, -0.9893,  0.2214,  1.3436,\n",
            "         -1.2303, -1.7799,  0.3803,  0.9156, -0.5253, -0.0163, -1.1187,  0.7696,\n",
            "         -0.7300, -1.2771, -0.0145, -0.0237, -0.3023,  0.1247, -0.5601,  0.8042,\n",
            "          0.9142, -0.9861,  1.1770, -0.0168,  0.2208,  1.2658, -0.2794, -0.8283,\n",
            "          0.2534, -0.5379, -0.4734,  0.3055,  1.0405,  0.5436,  0.6408,  1.9608,\n",
            "         -0.8555,  0.7488,  1.1898, -0.0191, -0.3116, -0.8127,  0.8645, -1.1027,\n",
            "         -0.8789,  0.0793,  0.3775,  0.6781,  0.1878,  0.3096, -0.0336, -0.3459,\n",
            "          0.7963, -0.9203,  0.3688, -0.3192,  0.9934, -0.0338,  0.2049, -1.1706,\n",
            "         -0.1905,  0.3928,  0.2073, -0.2641, -1.2288, -0.1251,  0.5483, -0.5450,\n",
            "         -0.7905,  0.6647, -0.2543, -0.0431,  0.2298,  0.3533, -0.5669, -0.0597,\n",
            "         -0.5939,  0.2784,  0.4341,  0.0961, -0.6984, -0.0938,  0.2851,  0.6018,\n",
            "          1.1927,  0.3068, -0.5114, -1.8047, -0.3393,  0.1376,  0.0685, -1.7457,\n",
            "         -0.9503,  1.7201, -0.6213, -0.2582,  0.3769, -0.4957, -0.8395,  0.8990,\n",
            "          0.2458, -0.7820,  0.8924,  0.2150, -0.5128,  0.3952,  0.1505, -0.4240,\n",
            "         -1.5081,  0.4382,  0.9451,  1.5751,  0.8710,  0.1803,  0.3839, -0.5976,\n",
            "         -0.1731, -0.8830,  1.2000,  0.9271, -0.3500,  0.6014,  0.8487, -0.6009,\n",
            "          0.2536, -0.0096, -0.0476, -0.3030, -0.9507, -0.5064, -0.1296,  0.5923,\n",
            "          0.8661, -0.1903,  0.0633,  0.5858,  1.1240, -1.0045,  0.6967, -0.3544,\n",
            "         -0.0929, -1.0165,  1.0827,  0.9826,  0.5274, -0.1788, -0.2095,  0.1775,\n",
            "          0.3958, -0.5763, -0.2074, -1.0001, -1.4808, -0.4712,  0.6923,  0.3268,\n",
            "         -1.5807, -0.4892, -1.1898,  0.4748,  0.1558, -0.1735, -0.8606,  0.5799,\n",
            "         -0.3111, -0.5024, -0.0878,  0.0694, -0.5441,  0.4816, -1.4702, -0.5028,\n",
            "         -0.0587,  0.1462, -0.6158,  0.0640, -0.3922, -0.1362, -0.0617,  0.5204,\n",
            "          0.4096,  0.7804, -0.2943,  0.7184,  0.1239, -1.0507, -0.8565, -0.3160],\n",
            "        [-0.0093,  0.2436, -0.9098, -0.4796, -0.8275,  0.2058, -1.0940,  0.6122,\n",
            "         -0.1792,  0.4994, -0.1749,  0.8316,  0.1318, -0.9110,  0.2399, -0.0281,\n",
            "         -0.5289, -0.8222, -0.9384,  0.0089, -1.1287,  0.8261, -0.1074,  0.1626,\n",
            "          1.0537, -0.8453,  1.9375, -1.0347, -0.7756, -0.4797, -0.5063, -0.3877,\n",
            "          0.2749,  0.0868,  0.2187, -0.4915,  0.5113, -0.1558, -0.1231,  0.2572,\n",
            "          0.1254, -0.2014,  0.3765,  0.0997,  0.7427, -1.3357, -0.4876, -0.6223,\n",
            "          0.7157,  0.2864, -1.1978,  1.3150,  0.6403, -0.2373, -0.5590,  1.6915,\n",
            "          1.2501, -0.2781, -0.3962,  0.4187, -0.7299, -0.2505, -0.9332,  1.8483,\n",
            "         -0.3866, -0.0043,  1.1689,  1.5013,  0.6547, -0.6567,  0.5376,  1.2375,\n",
            "         -0.8766, -1.7892,  0.4747,  0.8668,  0.1100,  0.2289, -1.3042,  0.3486,\n",
            "         -0.7694, -0.7805,  0.2534,  0.5319,  0.0823,  0.0765, -0.5972, -0.2204,\n",
            "          0.9679, -0.7963,  0.3954, -0.0302,  0.3160,  0.7440, -0.6768,  0.3068,\n",
            "          0.0056, -0.2826, -0.6511,  0.1596,  0.9707,  0.3306,  0.4273,  0.8989,\n",
            "         -0.5043,  0.0912,  0.7605, -0.3222, -0.4201, -0.0852,  0.4719, -0.4344,\n",
            "         -0.5083,  0.1851, -0.0073,  0.4628, -0.7318,  0.4389, -0.5913, -1.0871,\n",
            "          0.8635, -1.3689,  0.0123, -0.2279,  1.2353,  0.3027,  0.3660, -1.4275,\n",
            "          0.0185, -0.0312, -0.0801, -0.3431, -0.9465, -0.0378,  0.7743, -0.3293,\n",
            "         -0.0145,  0.6805, -0.1671,  0.3098,  0.8088, -0.2571, -0.1080,  0.1784,\n",
            "         -0.2426,  0.1500, -0.1671, -0.0142, -1.2719,  0.2839,  0.2534,  0.4504,\n",
            "          0.8265,  0.4061, -0.5896, -1.3275, -0.6975,  0.1745, -0.3823, -0.9188,\n",
            "         -1.3825,  0.8007, -0.4946,  0.1972, -0.0992, -0.4352, -0.3558,  0.2830,\n",
            "          0.1414, -1.2755,  0.6076, -0.1547, -0.8756,  0.1585,  0.7821, -0.1201,\n",
            "         -0.7362,  1.2176,  0.4305,  1.1706,  0.1044,  0.2548,  0.3569,  0.1337,\n",
            "         -0.4861, -0.3809,  0.8910,  0.2079, -0.4124, -0.0961,  0.1025, -0.3930,\n",
            "          0.2475,  0.1081, -0.1496,  0.2355, -0.9913,  0.4633,  0.3546, -0.5575,\n",
            "          0.6758, -0.8088,  0.2725, -0.4680,  1.6056, -0.3879,  0.8834,  0.0955,\n",
            "         -0.4356, -0.1824,  0.8133,  0.7627,  0.7772,  0.0247,  0.0388,  0.1908,\n",
            "          0.2168, -1.1985, -0.8759, -0.8682, -1.5047, -0.1852,  0.5590,  0.4174,\n",
            "         -0.9949, -0.5651, -0.6299,  0.6573, -0.1691, -0.1170, -0.6743,  0.1526,\n",
            "          0.1285, -0.0080, -0.2721,  0.0507, -0.4961,  0.6821, -1.0823, -0.0928,\n",
            "         -0.6450, -0.1010, -0.3946,  0.2978, -0.5229,  0.3898, -0.1450,  0.4924,\n",
            "          0.1836,  0.4000, -0.6156, -0.0349, -0.2794, -0.3256, -0.9500,  0.1388]],\n",
            "       device='cuda:0', grad_fn=<AddmmBackward>)\n",
            "y_numpy:\n",
            " [[-0.03598038  0.3434029  -0.16217007 -0.05894323  0.19381082  0.91813934\n",
            "  -0.77382594  0.06355664 -0.32126155  0.15518993  0.83542484  0.6536534\n",
            "   0.4923763  -0.09888865 -0.18375199  0.13847403 -0.34068647 -0.27529734\n",
            "  -0.5827075  -0.79098916 -2.249169   -0.47232485  0.8669636  -0.56384724\n",
            "   1.3933468  -0.11848205  1.538513   -0.33051437 -0.9705248  -0.6342026\n",
            "   0.0462349  -1.629973    0.13352333 -0.2779324  -0.12283734 -1.2167814\n",
            "   0.92677265 -0.3178641  -0.48329222 -0.347989    0.3993256   0.01633828\n",
            "   0.910368    0.06911168  1.0723133  -0.41012916 -0.8609733  -0.7310513\n",
            "   0.16354847 -1.5528829  -1.0059534   1.0067904  -0.31169254  0.06968538\n",
            "   0.16130415  1.4167571   0.9476412  -0.4032854  -0.5991024   0.5185432\n",
            "  -2.358668   -0.12046733 -1.1787744   2.202067    0.3699916  -0.28267804\n",
            "   0.629169    0.9861649   0.4394078  -0.98927206  0.22137356  1.3435526\n",
            "  -1.2302955  -1.7799275   0.38026804  0.91563565 -0.5252529  -0.0162522\n",
            "  -1.1187361   0.76957595 -0.7299743  -1.2771369  -0.01445627 -0.02373337\n",
            "  -0.30229485  0.12467337 -0.56012136  0.804211    0.91424245 -0.98612446\n",
            "   1.1769627  -0.01683547  0.22083104  1.2657866  -0.27941775 -0.82828367\n",
            "   0.2534111  -0.5378555  -0.47341162  0.30550975  1.0404594   0.54362935\n",
            "   0.64077544  1.9607831  -0.85547376  0.74883914  1.1898084  -0.01913418\n",
            "  -0.31162378 -0.8127494   0.86445963 -1.1026965  -0.8789382   0.07926778\n",
            "   0.3775457   0.6781235   0.18778738  0.3095799  -0.03357461 -0.3458853\n",
            "   0.796286   -0.92026204  0.36877882 -0.31915507  0.99339247 -0.03377242\n",
            "   0.20486996 -1.1705534  -0.19045728  0.39275843  0.20725656 -0.26405966\n",
            "  -1.2288028  -0.12510474  0.5483342  -0.5450325  -0.7905133   0.6646531\n",
            "  -0.2543372  -0.04305989  0.22978972  0.35332626 -0.56694436 -0.05969004\n",
            "  -0.59389937  0.27838498  0.4341201   0.09613191 -0.69844794 -0.09379399\n",
            "   0.28506958  0.601804    1.1926873   0.30676365 -0.5114403  -1.8046572\n",
            "  -0.33927155  0.13757052  0.0684743  -1.7456548  -0.95031893  1.7200565\n",
            "  -0.62133056 -0.25818434  0.37690747 -0.49574926 -0.83951735  0.8990343\n",
            "   0.24581696 -0.78202873  0.8924468   0.21497422 -0.5127733   0.3951853\n",
            "   0.15047534 -0.4239981  -1.5081034   0.43818712  0.94508636  1.5751389\n",
            "   0.871       0.18027702  0.38390633 -0.5976066  -0.17306542 -0.88302976\n",
            "   1.2000462   0.9270885  -0.35004517  0.6013883   0.84872544 -0.6009298\n",
            "   0.25363323 -0.00956666 -0.04759534 -0.30303025 -0.9506502  -0.50644463\n",
            "  -0.12957987  0.59232503  0.8661417  -0.19034603  0.06328556  0.585755\n",
            "   1.124047   -1.0045208   0.6967065  -0.35440668 -0.09292404 -1.01653\n",
            "   1.0826778   0.98256195  0.52743196 -0.17878067 -0.20947722  0.17748141\n",
            "   0.39580643 -0.5762899  -0.20737867 -1.0000728  -1.4807554  -0.47119355\n",
            "   0.6922721   0.3268263  -1.5806586  -0.4892038  -1.1898497   0.47477815\n",
            "   0.15581909 -0.17352869 -0.8606322   0.57991475 -0.3111091  -0.5024113\n",
            "  -0.08775992  0.06936382 -0.54405797  0.48157924 -1.4701788  -0.50280017\n",
            "  -0.05873148  0.14622495 -0.6158278   0.06400419 -0.39217514 -0.13624883\n",
            "  -0.06172423  0.52040464  0.40962467  0.78042364 -0.29429445  0.7184047\n",
            "   0.12385362 -1.0507376  -0.8564687  -0.3160221 ]\n",
            " [-0.00925433  0.24363779 -0.9097725  -0.47962898 -0.8275313   0.20581567\n",
            "  -1.0940183   0.6122346  -0.17918447  0.4994439  -0.17485686  0.83164793\n",
            "   0.13181666 -0.910967    0.23992805 -0.02810217 -0.52891445 -0.8222146\n",
            "  -0.93840086  0.00886379 -1.1286503   0.82607394 -0.10735475  0.1625789\n",
            "   1.0537155  -0.84530014  1.9374572  -1.0346686  -0.775587   -0.4797236\n",
            "  -0.50625455 -0.38768873  0.27494168  0.08675718  0.21872678 -0.49147874\n",
            "   0.51134455 -0.15582013 -0.12305923  0.2572308   0.12544566 -0.20143664\n",
            "   0.37650394  0.09966339  0.7426741  -1.3357418  -0.48757806 -0.6223263\n",
            "   0.7156615   0.28642845 -1.197794    1.3149989   0.6402888  -0.23732743\n",
            "  -0.55901206  1.6914768   1.2501186  -0.27810386 -0.39623013  0.4187363\n",
            "  -0.7299123  -0.25046057 -0.93319917  1.8483167  -0.38656586 -0.00429862\n",
            "   1.1688932   1.5013455   0.6546776  -0.6567138   0.53759974  1.2375387\n",
            "  -0.876556   -1.7892184   0.47473934  0.8668426   0.1099855   0.22893006\n",
            "  -1.304178    0.3485871  -0.7694311  -0.7804606   0.25339478  0.5318514\n",
            "   0.08233596  0.07651919 -0.5971886  -0.22036302  0.96791047 -0.7962827\n",
            "   0.3954205  -0.03022265  0.31604186  0.74402285 -0.67678225  0.30680448\n",
            "   0.00563914 -0.282601   -0.6511392   0.15959533  0.9707334   0.3305822\n",
            "   0.42730665  0.89889336 -0.5043437   0.09124     0.7604838  -0.32219654\n",
            "  -0.42010581 -0.08523776  0.47188026 -0.43443823 -0.5082974   0.18508431\n",
            "  -0.00725663  0.4628261  -0.73177725  0.43893737 -0.5913146  -1.0871239\n",
            "   0.8635414  -1.3689151   0.01231284 -0.22789395  1.2353115   0.30266982\n",
            "   0.36598286 -1.4274553   0.0185449  -0.03121775 -0.08014906 -0.34312692\n",
            "  -0.9464686  -0.03779623  0.7743092  -0.3292587  -0.01451837  0.6805165\n",
            "  -0.16709025  0.30980068  0.8088036  -0.25707597 -0.10798588  0.17838465\n",
            "  -0.2425981   0.15000176 -0.16706903 -0.01421431 -1.2719159   0.28386667\n",
            "   0.25340635  0.45044357  0.82647234  0.4060601  -0.589621   -1.3274755\n",
            "  -0.69752496  0.17454928 -0.38225636 -0.91875714 -1.3825215   0.8007444\n",
            "  -0.4946229   0.19718316 -0.09918897 -0.435234   -0.35580984  0.2829946\n",
            "   0.14136596 -1.2754766   0.60761523 -0.15466735 -0.8755812   0.1585119\n",
            "   0.7821242  -0.12013636 -0.7362131   1.2176042   0.43047255  1.170629\n",
            "   0.10436168  0.2547697   0.35690358  0.13371553 -0.48605135 -0.38087758\n",
            "   0.89099395  0.20790973 -0.41244528 -0.09610277  0.10250789 -0.39298454\n",
            "   0.24754837  0.10808908 -0.14958313  0.23547654 -0.9912893   0.46325302\n",
            "   0.35463697 -0.55751795  0.67584944 -0.80877084  0.27246577 -0.468025\n",
            "   1.6055709  -0.3879001   0.883374    0.09554478 -0.435622   -0.18241632\n",
            "   0.813296    0.76266867  0.7771621   0.02467898  0.03877579  0.19075078\n",
            "   0.2167667  -1.1985345  -0.8758658  -0.8682043  -1.50469    -0.18519959\n",
            "   0.55902135  0.41737217 -0.99488324 -0.56505305 -0.6299008   0.6573438\n",
            "  -0.16913225 -0.11699774 -0.67428035  0.15255679  0.12852374 -0.00801437\n",
            "  -0.2721333   0.05072203 -0.49607173  0.6820812  -1.0823406  -0.09282459\n",
            "  -0.64497817 -0.10099578 -0.3946428   0.29776886 -0.52288944  0.3897795\n",
            "  -0.14497201  0.49243453  0.18357177  0.40000153 -0.6155932  -0.03487466\n",
            "  -0.27941394 -0.32559937 -0.95000935  0.13883449]]\n"
          ],
          "name": "stdout"
        }
      ]
    },
    {
      "cell_type": "markdown",
      "metadata": {
        "id": "zzd12JKl7NpX"
      },
      "source": [
        "### Check Parameters"
      ]
    },
    {
      "cell_type": "code",
      "metadata": {
        "id": "3Rmd2r_kw1s0",
        "colab": {
          "base_uri": "https://localhost:8080/"
        },
        "outputId": "784868f5-1e2e-4f37-9594-e182e9f949bf"
      },
      "source": [
        "np.set_printoptions(precision=3)\n",
        "n_param = 0\n",
        "for p_idx,(param_name,param) in enumerate(M.named_parameters()):\n",
        "    param_numpy = param.detach().cpu().numpy()\n",
        "    n_param += len(param_numpy.reshape(-1))\n",
        "    print (\"[%d] name:[%s] shape:[%s].\"%(p_idx,param_name,param_numpy.shape))\n",
        "    print (\"    val:%s\"%(param_numpy.reshape(-1)[:5]))\n",
        "print (\"Total number of parameters:[%s].\"%(format(n_param,',d')))"
      ],
      "execution_count": null,
      "outputs": [
        {
          "output_type": "stream",
          "text": [
            "[0] name:[lin_1.weight] shape:[(256, 784)].\n",
            "    val:[ 0.105  0.066 -0.028 -0.022  0.033]\n",
            "[1] name:[lin_1.bias] shape:[(256,)].\n",
            "    val:[0. 0. 0. 0. 0.]\n",
            "[2] name:[lin_2.weight] shape:[(256, 256)].\n",
            "    val:[-0.077 -0.012 -0.025 -0.053 -0.063]\n",
            "[3] name:[lin_2.bias] shape:[(256,)].\n",
            "    val:[0. 0. 0. 0. 0.]\n",
            "Total number of parameters:[266,752].\n"
          ],
          "name": "stdout"
        }
      ]
    },
    {
      "cell_type": "markdown",
      "metadata": {
        "id": "VVaqrcXUA5EB"
      },
      "source": [
        "### Evaluation Function"
      ]
    },
    {
      "cell_type": "code",
      "metadata": {
        "id": "SxXyYXH75Veq",
        "colab": {
          "base_uri": "https://localhost:8080/"
        },
        "outputId": "58be974c-2f52-4aee-f5a4-989f37cb6266"
      },
      "source": [
        "def func_eval(model,data_iter,device):\n",
        "    with torch.no_grad():\n",
        "        model.eval() # evaluate (affects DropOut and BN)\n",
        "        n_total,n_correct = 0,0\n",
        "        for batch_in,batch_out in data_iter:\n",
        "            y_trgt = batch_out.to(device)\n",
        "            model_pred = model(\n",
        "                batch_in.view(-1,28*28).to(device)\n",
        "            )\n",
        "            _,y_pred = torch.max(model_pred.data,1)\n",
        "            n_correct += (\n",
        "                y_pred == y_trgt\n",
        "            ).sum().item()\n",
        "            n_total += batch_in.size(0)\n",
        "        val_accr = (n_correct/n_total)\n",
        "        model.train() # back to train mode \n",
        "    return val_accr\n",
        "print (\"Done\")"
      ],
      "execution_count": null,
      "outputs": [
        {
          "output_type": "stream",
          "text": [
            "Done\n"
          ],
          "name": "stdout"
        }
      ]
    },
    {
      "cell_type": "markdown",
      "metadata": {
        "id": "WmmJjAFKKOrB"
      },
      "source": [
        "### Initial Evaluation"
      ]
    },
    {
      "cell_type": "code",
      "metadata": {
        "id": "pNlGD1TlA4T8",
        "colab": {
          "base_uri": "https://localhost:8080/"
        },
        "outputId": "c454186d-823c-4791-b42e-89ddc4ede624"
      },
      "source": [
        "M.init_param() # initialize parameters\n",
        "train_accr = func_eval(M,train_iter,device)\n",
        "test_accr = func_eval(M,test_iter,device)\n",
        "print (\"train_accr:[%.3f] test_accr:[%.3f].\"%(train_accr,test_accr))"
      ],
      "execution_count": null,
      "outputs": [
        {
          "output_type": "stream",
          "text": [
            "train_accr:[0.001] test_accr:[0.001].\n"
          ],
          "name": "stdout"
        }
      ]
    },
    {
      "cell_type": "markdown",
      "metadata": {
        "id": "yT_r2wMZLjTm"
      },
      "source": [
        "### Train"
      ]
    },
    {
      "cell_type": "code",
      "metadata": {
        "id": "3AS5BdrMw1E9",
        "colab": {
          "base_uri": "https://localhost:8080/"
        },
        "outputId": "558be99b-c5ef-460c-a6e5-1ce795d9dfa9"
      },
      "source": [
        "print (\"Start training.\")\n",
        "M.init_param() # initialize parameters\n",
        "M.train()\n",
        "EPOCHS,print_every = 10,1\n",
        "for epoch in range(EPOCHS):\n",
        "    loss_val_sum = 0\n",
        "    for batch_in,batch_out in train_iter:\n",
        "        # Forward path\n",
        "        y_pred = M.forward(batch_in.view(-1, 28*28).to(device))\n",
        "        loss_out = loss(y_pred,batch_out.to(device))\n",
        "        # Update\n",
        "        # reset gradient\n",
        "        optm.zero_grad()\n",
        "        # backpropagate\n",
        "        loss_out.backward()\n",
        "        # optimizer update\n",
        "        optm.step()\n",
        "\n",
        "        loss_val_sum += loss_out\n",
        "    loss_val_avg = loss_val_sum/len(train_iter)\n",
        "    # Print\n",
        "    if ((epoch%print_every)==0) or (epoch==(EPOCHS-1)):\n",
        "        train_accr = func_eval(M,train_iter,device)\n",
        "        test_accr = func_eval(M,test_iter,device)\n",
        "        print (\"epoch:[%d] loss:[%.3f] train_accr:[%.3f] test_accr:[%.3f].\"%\n",
        "               (epoch,loss_val_avg,train_accr,test_accr))\n",
        "print (\"Done\")        "
      ],
      "execution_count": null,
      "outputs": [
        {
          "output_type": "stream",
          "text": [
            "Start training.\n",
            "epoch:[0] loss:[0.531] train_accr:[0.938] test_accr:[0.938].\n",
            "epoch:[1] loss:[0.190] train_accr:[0.957] test_accr:[0.953].\n",
            "epoch:[2] loss:[0.137] train_accr:[0.969] test_accr:[0.964].\n",
            "epoch:[3] loss:[0.106] train_accr:[0.977] test_accr:[0.968].\n",
            "epoch:[4] loss:[0.084] train_accr:[0.979] test_accr:[0.969].\n",
            "epoch:[5] loss:[0.068] train_accr:[0.985] test_accr:[0.975].\n",
            "epoch:[6] loss:[0.057] train_accr:[0.987] test_accr:[0.974].\n",
            "epoch:[7] loss:[0.048] train_accr:[0.990] test_accr:[0.976].\n",
            "epoch:[8] loss:[0.041] train_accr:[0.991] test_accr:[0.976].\n",
            "epoch:[9] loss:[0.035] train_accr:[0.994] test_accr:[0.978].\n",
            "Done\n"
          ],
          "name": "stdout"
        }
      ]
    },
    {
      "cell_type": "markdown",
      "metadata": {
        "id": "NHQIhg-aNok5"
      },
      "source": [
        "### Test"
      ]
    },
    {
      "cell_type": "code",
      "metadata": {
        "id": "52zoFQxdMWRU",
        "colab": {
          "base_uri": "https://localhost:8080/",
          "height": 608
        },
        "outputId": "76130b7d-01ee-408f-f614-0951db73cf72"
      },
      "source": [
        "n_sample = 25\n",
        "sample_indices = np.random.choice(len(mnist_test.targets), n_sample, replace=False)\n",
        "test_x = mnist_test.data[sample_indices]\n",
        "test_y = mnist_test.targets[sample_indices]\n",
        "with torch.no_grad():\n",
        "    y_pred = M.forward(test_x.view(-1, 28*28).type(torch.float).to(device)/255.)\n",
        "y_pred = y_pred.argmax(axis=1)\n",
        "plt.figure(figsize=(10,10))\n",
        "for idx in range(n_sample):\n",
        "    plt.subplot(5, 5, idx+1)\n",
        "    plt.imshow(test_x[idx], cmap='gray')\n",
        "    plt.axis('off')\n",
        "    plt.title(\"Pred:%d, Label:%d\"%(y_pred[idx],test_y[idx]))\n",
        "plt.show()    \n",
        "print (\"Done\")"
      ],
      "execution_count": null,
      "outputs": [
        {
          "output_type": "display_data",
          "data": {
            "image/png": "[encoded data removed]",
            "text/plain": [
              "<Figure size 720x720 with 25 Axes>"
            ]
          },
          "metadata": {
            "tags": [],
            "image/png": {
              "width": 569,
              "height": 573
            },
            "needs_background": "light"
          }
        },
        {
          "output_type": "stream",
          "text": [
            "Done\n"
          ],
          "name": "stdout"
        }
      ]
    },
    {
      "cell_type": "code",
      "metadata": {
        "id": "Ikf5C7uV_ExD"
      },
      "source": [
        ""
      ],
      "execution_count": null,
      "outputs": []
    }
  ]
}