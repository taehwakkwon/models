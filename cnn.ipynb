{
  "nbformat": 4,
  "nbformat_minor": 0,
  "metadata": {
    "colab": {
      "name": "권태확_T1006_cnn",
      "provenance": [],
      "collapsed_sections": []
    },
    "kernelspec": {
      "name": "python3",
      "display_name": "Python 3"
    },
    "accelerator": "GPU",
    "widgets": {
      "application/vnd.jupyter.widget-state+json": {
        "9f5fcc220eff4bb2b05761e2b8a409ae": {
          "model_module": "@jupyter-widgets/controls",
          "model_name": "HBoxModel",
          "state": {
            "_view_name": "HBoxView",
            "_dom_classes": [],
            "_model_name": "HBoxModel",
            "_view_module": "@jupyter-widgets/controls",
            "_model_module_version": "1.5.0",
            "_view_count": null,
            "_view_module_version": "1.5.0",
            "box_style": "",
            "layout": "IPY_MODEL_953334efa4d34f7d9b61d4c67d8e3671",
            "_model_module": "@jupyter-widgets/controls",
            "children": [
              "IPY_MODEL_ab70068a5f7948c79b0df57d115bc918",
              "IPY_MODEL_e9ee6c3690d042f38704ac418ecfcc3f"
            ]
          }
        },
        "953334efa4d34f7d9b61d4c67d8e3671": {
          "model_module": "@jupyter-widgets/base",
          "model_name": "LayoutModel",
          "state": {
            "_view_name": "LayoutView",
            "grid_template_rows": null,
            "right": null,
            "justify_content": null,
            "_view_module": "@jupyter-widgets/base",
            "overflow": null,
            "_model_module_version": "1.2.0",
            "_view_count": null,
            "flex_flow": null,
            "width": null,
            "min_width": null,
            "border": null,
            "align_items": null,
            "bottom": null,
            "_model_module": "@jupyter-widgets/base",
            "top": null,
            "grid_column": null,
            "overflow_y": null,
            "overflow_x": null,
            "grid_auto_flow": null,
            "grid_area": null,
            "grid_template_columns": null,
            "flex": null,
            "_model_name": "LayoutModel",
            "justify_items": null,
            "grid_row": null,
            "max_height": null,
            "align_content": null,
            "visibility": null,
            "align_self": null,
            "height": null,
            "min_height": null,
            "padding": null,
            "grid_auto_rows": null,
            "grid_gap": null,
            "max_width": null,
            "order": null,
            "_view_module_version": "1.2.0",
            "grid_template_areas": null,
            "object_position": null,
            "object_fit": null,
            "grid_auto_columns": null,
            "margin": null,
            "display": null,
            "left": null
          }
        },
        "ab70068a5f7948c79b0df57d115bc918": {
          "model_module": "@jupyter-widgets/controls",
          "model_name": "FloatProgressModel",
          "state": {
            "_view_name": "ProgressView",
            "style": "IPY_MODEL_9c53a87541344b23a74f38db65a32c37",
            "_dom_classes": [],
            "description": "",
            "_model_name": "FloatProgressModel",
            "bar_style": "success",
            "max": 1,
            "_view_module": "@jupyter-widgets/controls",
            "_model_module_version": "1.5.0",
            "value": 1,
            "_view_count": null,
            "_view_module_version": "1.5.0",
            "orientation": "horizontal",
            "min": 0,
            "description_tooltip": null,
            "_model_module": "@jupyter-widgets/controls",
            "layout": "IPY_MODEL_fe2539c57b494e4b913cbf7220e5632b"
          }
        },
        "e9ee6c3690d042f38704ac418ecfcc3f": {
          "model_module": "@jupyter-widgets/controls",
          "model_name": "HTMLModel",
          "state": {
            "_view_name": "HTMLView",
            "style": "IPY_MODEL_4baec2e6e39c4638b08f1e5db7a29a5d",
            "_dom_classes": [],
            "description": "",
            "_model_name": "HTMLModel",
            "placeholder": "​",
            "_view_module": "@jupyter-widgets/controls",
            "_model_module_version": "1.5.0",
            "value": " 9920512/? [00:02&lt;00:00, 3671026.22it/s]",
            "_view_count": null,
            "_view_module_version": "1.5.0",
            "description_tooltip": null,
            "_model_module": "@jupyter-widgets/controls",
            "layout": "IPY_MODEL_6f39394c941b4f87a512e85a14a53aa7"
          }
        },
        "9c53a87541344b23a74f38db65a32c37": {
          "model_module": "@jupyter-widgets/controls",
          "model_name": "ProgressStyleModel",
          "state": {
            "_view_name": "StyleView",
            "_model_name": "ProgressStyleModel",
            "description_width": "initial",
            "_view_module": "@jupyter-widgets/base",
            "_model_module_version": "1.5.0",
            "_view_count": null,
            "_view_module_version": "1.2.0",
            "bar_color": null,
            "_model_module": "@jupyter-widgets/controls"
          }
        },
        "fe2539c57b494e4b913cbf7220e5632b": {
          "model_module": "@jupyter-widgets/base",
          "model_name": "LayoutModel",
          "state": {
            "_view_name": "LayoutView",
            "grid_template_rows": null,
            "right": null,
            "justify_content": null,
            "_view_module": "@jupyter-widgets/base",
            "overflow": null,
            "_model_module_version": "1.2.0",
            "_view_count": null,
            "flex_flow": null,
            "width": null,
            "min_width": null,
            "border": null,
            "align_items": null,
            "bottom": null,
            "_model_module": "@jupyter-widgets/base",
            "top": null,
            "grid_column": null,
            "overflow_y": null,
            "overflow_x": null,
            "grid_auto_flow": null,
            "grid_area": null,
            "grid_template_columns": null,
            "flex": null,
            "_model_name": "LayoutModel",
            "justify_items": null,
            "grid_row": null,
            "max_height": null,
            "align_content": null,
            "visibility": null,
            "align_self": null,
            "height": null,
            "min_height": null,
            "padding": null,
            "grid_auto_rows": null,
            "grid_gap": null,
            "max_width": null,
            "order": null,
            "_view_module_version": "1.2.0",
            "grid_template_areas": null,
            "object_position": null,
            "object_fit": null,
            "grid_auto_columns": null,
            "margin": null,
            "display": null,
            "left": null
          }
        },
        "4baec2e6e39c4638b08f1e5db7a29a5d": {
          "model_module": "@jupyter-widgets/controls",
          "model_name": "DescriptionStyleModel",
          "state": {
            "_view_name": "StyleView",
            "_model_name": "DescriptionStyleModel",
            "description_width": "",
            "_view_module": "@jupyter-widgets/base",
            "_model_module_version": "1.5.0",
            "_view_count": null,
            "_view_module_version": "1.2.0",
            "_model_module": "@jupyter-widgets/controls"
          }
        },
        "6f39394c941b4f87a512e85a14a53aa7": {
          "model_module": "@jupyter-widgets/base",
          "model_name": "LayoutModel",
          "state": {
            "_view_name": "LayoutView",
            "grid_template_rows": null,
            "right": null,
            "justify_content": null,
            "_view_module": "@jupyter-widgets/base",
            "overflow": null,
            "_model_module_version": "1.2.0",
            "_view_count": null,
            "flex_flow": null,
            "width": null,
            "min_width": null,
            "border": null,
            "align_items": null,
            "bottom": null,
            "_model_module": "@jupyter-widgets/base",
            "top": null,
            "grid_column": null,
            "overflow_y": null,
            "overflow_x": null,
            "grid_auto_flow": null,
            "grid_area": null,
            "grid_template_columns": null,
            "flex": null,
            "_model_name": "LayoutModel",
            "justify_items": null,
            "grid_row": null,
            "max_height": null,
            "align_content": null,
            "visibility": null,
            "align_self": null,
            "height": null,
            "min_height": null,
            "padding": null,
            "grid_auto_rows": null,
            "grid_gap": null,
            "max_width": null,
            "order": null,
            "_view_module_version": "1.2.0",
            "grid_template_areas": null,
            "object_position": null,
            "object_fit": null,
            "grid_auto_columns": null,
            "margin": null,
            "display": null,
            "left": null
          }
        },
        "3a6f1452091e44e49991d05db4af97b0": {
          "model_module": "@jupyter-widgets/controls",
          "model_name": "HBoxModel",
          "state": {
            "_view_name": "HBoxView",
            "_dom_classes": [],
            "_model_name": "HBoxModel",
            "_view_module": "@jupyter-widgets/controls",
            "_model_module_version": "1.5.0",
            "_view_count": null,
            "_view_module_version": "1.5.0",
            "box_style": "",
            "layout": "IPY_MODEL_a6bbd031c222461085b049cfb21f5e06",
            "_model_module": "@jupyter-widgets/controls",
            "children": [
              "IPY_MODEL_04a15a389e4a41d68a894a1d57719dd1",
              "IPY_MODEL_e4a6ea6dc9a04480a00da5353c969646"
            ]
          }
        },
        "a6bbd031c222461085b049cfb21f5e06": {
          "model_module": "@jupyter-widgets/base",
          "model_name": "LayoutModel",
          "state": {
            "_view_name": "LayoutView",
            "grid_template_rows": null,
            "right": null,
            "justify_content": null,
            "_view_module": "@jupyter-widgets/base",
            "overflow": null,
            "_model_module_version": "1.2.0",
            "_view_count": null,
            "flex_flow": null,
            "width": null,
            "min_width": null,
            "border": null,
            "align_items": null,
            "bottom": null,
            "_model_module": "@jupyter-widgets/base",
            "top": null,
            "grid_column": null,
            "overflow_y": null,
            "overflow_x": null,
            "grid_auto_flow": null,
            "grid_area": null,
            "grid_template_columns": null,
            "flex": null,
            "_model_name": "LayoutModel",
            "justify_items": null,
            "grid_row": null,
            "max_height": null,
            "align_content": null,
            "visibility": null,
            "align_self": null,
            "height": null,
            "min_height": null,
            "padding": null,
            "grid_auto_rows": null,
            "grid_gap": null,
            "max_width": null,
            "order": null,
            "_view_module_version": "1.2.0",
            "grid_template_areas": null,
            "object_position": null,
            "object_fit": null,
            "grid_auto_columns": null,
            "margin": null,
            "display": null,
            "left": null
          }
        },
        "04a15a389e4a41d68a894a1d57719dd1": {
          "model_module": "@jupyter-widgets/controls",
          "model_name": "FloatProgressModel",
          "state": {
            "_view_name": "ProgressView",
            "style": "IPY_MODEL_7a722f5cd8d14c10834e072c47f8454f",
            "_dom_classes": [],
            "description": "",
            "_model_name": "FloatProgressModel",
            "bar_style": "success",
            "max": 1,
            "_view_module": "@jupyter-widgets/controls",
            "_model_module_version": "1.5.0",
            "value": 1,
            "_view_count": null,
            "_view_module_version": "1.5.0",
            "orientation": "horizontal",
            "min": 0,
            "description_tooltip": null,
            "_model_module": "@jupyter-widgets/controls",
            "layout": "IPY_MODEL_32054fe745bd494a9339af6d2048fdcb"
          }
        },
        "e4a6ea6dc9a04480a00da5353c969646": {
          "model_module": "@jupyter-widgets/controls",
          "model_name": "HTMLModel",
          "state": {
            "_view_name": "HTMLView",
            "style": "IPY_MODEL_d434f7bfe9cd4638b68c2008d9bdd1e7",
            "_dom_classes": [],
            "description": "",
            "_model_name": "HTMLModel",
            "placeholder": "​",
            "_view_module": "@jupyter-widgets/controls",
            "_model_module_version": "1.5.0",
            "value": " 32768/? [00:01&lt;00:00, 25796.29it/s]",
            "_view_count": null,
            "_view_module_version": "1.5.0",
            "description_tooltip": null,
            "_model_module": "@jupyter-widgets/controls",
            "layout": "IPY_MODEL_b8a76d054a454aa5afba6fb68d6cafab"
          }
        },
        "7a722f5cd8d14c10834e072c47f8454f": {
          "model_module": "@jupyter-widgets/controls",
          "model_name": "ProgressStyleModel",
          "state": {
            "_view_name": "StyleView",
            "_model_name": "ProgressStyleModel",
            "description_width": "initial",
            "_view_module": "@jupyter-widgets/base",
            "_model_module_version": "1.5.0",
            "_view_count": null,
            "_view_module_version": "1.2.0",
            "bar_color": null,
            "_model_module": "@jupyter-widgets/controls"
          }
        },
        "32054fe745bd494a9339af6d2048fdcb": {
          "model_module": "@jupyter-widgets/base",
          "model_name": "LayoutModel",
          "state": {
            "_view_name": "LayoutView",
            "grid_template_rows": null,
            "right": null,
            "justify_content": null,
            "_view_module": "@jupyter-widgets/base",
            "overflow": null,
            "_model_module_version": "1.2.0",
            "_view_count": null,
            "flex_flow": null,
            "width": null,
            "min_width": null,
            "border": null,
            "align_items": null,
            "bottom": null,
            "_model_module": "@jupyter-widgets/base",
            "top": null,
            "grid_column": null,
            "overflow_y": null,
            "overflow_x": null,
            "grid_auto_flow": null,
            "grid_area": null,
            "grid_template_columns": null,
            "flex": null,
            "_model_name": "LayoutModel",
            "justify_items": null,
            "grid_row": null,
            "max_height": null,
            "align_content": null,
            "visibility": null,
            "align_self": null,
            "height": null,
            "min_height": null,
            "padding": null,
            "grid_auto_rows": null,
            "grid_gap": null,
            "max_width": null,
            "order": null,
            "_view_module_version": "1.2.0",
            "grid_template_areas": null,
            "object_position": null,
            "object_fit": null,
            "grid_auto_columns": null,
            "margin": null,
            "display": null,
            "left": null
          }
        },
        "d434f7bfe9cd4638b68c2008d9bdd1e7": {
          "model_module": "@jupyter-widgets/controls",
          "model_name": "DescriptionStyleModel",
          "state": {
            "_view_name": "StyleView",
            "_model_name": "DescriptionStyleModel",
            "description_width": "",
            "_view_module": "@jupyter-widgets/base",
            "_model_module_version": "1.5.0",
            "_view_count": null,
            "_view_module_version": "1.2.0",
            "_model_module": "@jupyter-widgets/controls"
          }
        },
        "b8a76d054a454aa5afba6fb68d6cafab": {
          "model_module": "@jupyter-widgets/base",
          "model_name": "LayoutModel",
          "state": {
            "_view_name": "LayoutView",
            "grid_template_rows": null,
            "right": null,
            "justify_content": null,
            "_view_module": "@jupyter-widgets/base",
            "overflow": null,
            "_model_module_version": "1.2.0",
            "_view_count": null,
            "flex_flow": null,
            "width": null,
            "min_width": null,
            "border": null,
            "align_items": null,
            "bottom": null,
            "_model_module": "@jupyter-widgets/base",
            "top": null,
            "grid_column": null,
            "overflow_y": null,
            "overflow_x": null,
            "grid_auto_flow": null,
            "grid_area": null,
            "grid_template_columns": null,
            "flex": null,
            "_model_name": "LayoutModel",
            "justify_items": null,
            "grid_row": null,
            "max_height": null,
            "align_content": null,
            "visibility": null,
            "align_self": null,
            "height": null,
            "min_height": null,
            "padding": null,
            "grid_auto_rows": null,
            "grid_gap": null,
            "max_width": null,
            "order": null,
            "_view_module_version": "1.2.0",
            "grid_template_areas": null,
            "object_position": null,
            "object_fit": null,
            "grid_auto_columns": null,
            "margin": null,
            "display": null,
            "left": null
          }
        },
        "e0c9b581b8504405a3a64b3729f0d212": {
          "model_module": "@jupyter-widgets/controls",
          "model_name": "HBoxModel",
          "state": {
            "_view_name": "HBoxView",
            "_dom_classes": [],
            "_model_name": "HBoxModel",
            "_view_module": "@jupyter-widgets/controls",
            "_model_module_version": "1.5.0",
            "_view_count": null,
            "_view_module_version": "1.5.0",
            "box_style": "",
            "layout": "IPY_MODEL_15c61629d7be49dc8226450c462e4290",
            "_model_module": "@jupyter-widgets/controls",
            "children": [
              "IPY_MODEL_524aa9cddbba4294bc9cfe59c4eca45e",
              "IPY_MODEL_42d9f9864c59447597216682f0ddd0b3"
            ]
          }
        },
        "15c61629d7be49dc8226450c462e4290": {
          "model_module": "@jupyter-widgets/base",
          "model_name": "LayoutModel",
          "state": {
            "_view_name": "LayoutView",
            "grid_template_rows": null,
            "right": null,
            "justify_content": null,
            "_view_module": "@jupyter-widgets/base",
            "overflow": null,
            "_model_module_version": "1.2.0",
            "_view_count": null,
            "flex_flow": null,
            "width": null,
            "min_width": null,
            "border": null,
            "align_items": null,
            "bottom": null,
            "_model_module": "@jupyter-widgets/base",
            "top": null,
            "grid_column": null,
            "overflow_y": null,
            "overflow_x": null,
            "grid_auto_flow": null,
            "grid_area": null,
            "grid_template_columns": null,
            "flex": null,
            "_model_name": "LayoutModel",
            "justify_items": null,
            "grid_row": null,
            "max_height": null,
            "align_content": null,
            "visibility": null,
            "align_self": null,
            "height": null,
            "min_height": null,
            "padding": null,
            "grid_auto_rows": null,
            "grid_gap": null,
            "max_width": null,
            "order": null,
            "_view_module_version": "1.2.0",
            "grid_template_areas": null,
            "object_position": null,
            "object_fit": null,
            "grid_auto_columns": null,
            "margin": null,
            "display": null,
            "left": null
          }
        },
        "524aa9cddbba4294bc9cfe59c4eca45e": {
          "model_module": "@jupyter-widgets/controls",
          "model_name": "FloatProgressModel",
          "state": {
            "_view_name": "ProgressView",
            "style": "IPY_MODEL_60e828c7fc234527923ae32f64ec9fae",
            "_dom_classes": [],
            "description": "",
            "_model_name": "FloatProgressModel",
            "bar_style": "success",
            "max": 1,
            "_view_module": "@jupyter-widgets/controls",
            "_model_module_version": "1.5.0",
            "value": 1,
            "_view_count": null,
            "_view_module_version": "1.5.0",
            "orientation": "horizontal",
            "min": 0,
            "description_tooltip": null,
            "_model_module": "@jupyter-widgets/controls",
            "layout": "IPY_MODEL_4013782a5beb4dfe93bcc51d5f649f34"
          }
        },
        "42d9f9864c59447597216682f0ddd0b3": {
          "model_module": "@jupyter-widgets/controls",
          "model_name": "HTMLModel",
          "state": {
            "_view_name": "HTMLView",
            "style": "IPY_MODEL_5217a1e460e44a6d86f1053d75567fde",
            "_dom_classes": [],
            "description": "",
            "_model_name": "HTMLModel",
            "placeholder": "​",
            "_view_module": "@jupyter-widgets/controls",
            "_model_module_version": "1.5.0",
            "value": " 1654784/? [00:00&lt;00:00, 1688647.91it/s]",
            "_view_count": null,
            "_view_module_version": "1.5.0",
            "description_tooltip": null,
            "_model_module": "@jupyter-widgets/controls",
            "layout": "IPY_MODEL_872c1c941aad46c3b78d7e998a8ea868"
          }
        },
        "60e828c7fc234527923ae32f64ec9fae": {
          "model_module": "@jupyter-widgets/controls",
          "model_name": "ProgressStyleModel",
          "state": {
            "_view_name": "StyleView",
            "_model_name": "ProgressStyleModel",
            "description_width": "initial",
            "_view_module": "@jupyter-widgets/base",
            "_model_module_version": "1.5.0",
            "_view_count": null,
            "_view_module_version": "1.2.0",
            "bar_color": null,
            "_model_module": "@jupyter-widgets/controls"
          }
        },
        "4013782a5beb4dfe93bcc51d5f649f34": {
          "model_module": "@jupyter-widgets/base",
          "model_name": "LayoutModel",
          "state": {
            "_view_name": "LayoutView",
            "grid_template_rows": null,
            "right": null,
            "justify_content": null,
            "_view_module": "@jupyter-widgets/base",
            "overflow": null,
            "_model_module_version": "1.2.0",
            "_view_count": null,
            "flex_flow": null,
            "width": null,
            "min_width": null,
            "border": null,
            "align_items": null,
            "bottom": null,
            "_model_module": "@jupyter-widgets/base",
            "top": null,
            "grid_column": null,
            "overflow_y": null,
            "overflow_x": null,
            "grid_auto_flow": null,
            "grid_area": null,
            "grid_template_columns": null,
            "flex": null,
            "_model_name": "LayoutModel",
            "justify_items": null,
            "grid_row": null,
            "max_height": null,
            "align_content": null,
            "visibility": null,
            "align_self": null,
            "height": null,
            "min_height": null,
            "padding": null,
            "grid_auto_rows": null,
            "grid_gap": null,
            "max_width": null,
            "order": null,
            "_view_module_version": "1.2.0",
            "grid_template_areas": null,
            "object_position": null,
            "object_fit": null,
            "grid_auto_columns": null,
            "margin": null,
            "display": null,
            "left": null
          }
        },
        "5217a1e460e44a6d86f1053d75567fde": {
          "model_module": "@jupyter-widgets/controls",
          "model_name": "DescriptionStyleModel",
          "state": {
            "_view_name": "StyleView",
            "_model_name": "DescriptionStyleModel",
            "description_width": "",
            "_view_module": "@jupyter-widgets/base",
            "_model_module_version": "1.5.0",
            "_view_count": null,
            "_view_module_version": "1.2.0",
            "_model_module": "@jupyter-widgets/controls"
          }
        },
        "872c1c941aad46c3b78d7e998a8ea868": {
          "model_module": "@jupyter-widgets/base",
          "model_name": "LayoutModel",
          "state": {
            "_view_name": "LayoutView",
            "grid_template_rows": null,
            "right": null,
            "justify_content": null,
            "_view_module": "@jupyter-widgets/base",
            "overflow": null,
            "_model_module_version": "1.2.0",
            "_view_count": null,
            "flex_flow": null,
            "width": null,
            "min_width": null,
            "border": null,
            "align_items": null,
            "bottom": null,
            "_model_module": "@jupyter-widgets/base",
            "top": null,
            "grid_column": null,
            "overflow_y": null,
            "overflow_x": null,
            "grid_auto_flow": null,
            "grid_area": null,
            "grid_template_columns": null,
            "flex": null,
            "_model_name": "LayoutModel",
            "justify_items": null,
            "grid_row": null,
            "max_height": null,
            "align_content": null,
            "visibility": null,
            "align_self": null,
            "height": null,
            "min_height": null,
            "padding": null,
            "grid_auto_rows": null,
            "grid_gap": null,
            "max_width": null,
            "order": null,
            "_view_module_version": "1.2.0",
            "grid_template_areas": null,
            "object_position": null,
            "object_fit": null,
            "grid_auto_columns": null,
            "margin": null,
            "display": null,
            "left": null
          }
        },
        "ada96f7385fa4756831d098ba5e4935e": {
          "model_module": "@jupyter-widgets/controls",
          "model_name": "HBoxModel",
          "state": {
            "_view_name": "HBoxView",
            "_dom_classes": [],
            "_model_name": "HBoxModel",
            "_view_module": "@jupyter-widgets/controls",
            "_model_module_version": "1.5.0",
            "_view_count": null,
            "_view_module_version": "1.5.0",
            "box_style": "",
            "layout": "IPY_MODEL_58af20c2438a4d15ae73267e1b5d1ae1",
            "_model_module": "@jupyter-widgets/controls",
            "children": [
              "IPY_MODEL_8d08a3206f6c4590bca65e33aad4ea3d",
              "IPY_MODEL_d9dc2578faa544a9b0b4d5ff8c9a516e"
            ]
          }
        },
        "58af20c2438a4d15ae73267e1b5d1ae1": {
          "model_module": "@jupyter-widgets/base",
          "model_name": "LayoutModel",
          "state": {
            "_view_name": "LayoutView",
            "grid_template_rows": null,
            "right": null,
            "justify_content": null,
            "_view_module": "@jupyter-widgets/base",
            "overflow": null,
            "_model_module_version": "1.2.0",
            "_view_count": null,
            "flex_flow": null,
            "width": null,
            "min_width": null,
            "border": null,
            "align_items": null,
            "bottom": null,
            "_model_module": "@jupyter-widgets/base",
            "top": null,
            "grid_column": null,
            "overflow_y": null,
            "overflow_x": null,
            "grid_auto_flow": null,
            "grid_area": null,
            "grid_template_columns": null,
            "flex": null,
            "_model_name": "LayoutModel",
            "justify_items": null,
            "grid_row": null,
            "max_height": null,
            "align_content": null,
            "visibility": null,
            "align_self": null,
            "height": null,
            "min_height": null,
            "padding": null,
            "grid_auto_rows": null,
            "grid_gap": null,
            "max_width": null,
            "order": null,
            "_view_module_version": "1.2.0",
            "grid_template_areas": null,
            "object_position": null,
            "object_fit": null,
            "grid_auto_columns": null,
            "margin": null,
            "display": null,
            "left": null
          }
        },
        "8d08a3206f6c4590bca65e33aad4ea3d": {
          "model_module": "@jupyter-widgets/controls",
          "model_name": "FloatProgressModel",
          "state": {
            "_view_name": "ProgressView",
            "style": "IPY_MODEL_3802b1c5ed184bca8577b6b63cbb9f45",
            "_dom_classes": [],
            "description": "",
            "_model_name": "FloatProgressModel",
            "bar_style": "success",
            "max": 1,
            "_view_module": "@jupyter-widgets/controls",
            "_model_module_version": "1.5.0",
            "value": 1,
            "_view_count": null,
            "_view_module_version": "1.5.0",
            "orientation": "horizontal",
            "min": 0,
            "description_tooltip": null,
            "_model_module": "@jupyter-widgets/controls",
            "layout": "IPY_MODEL_8a7f9c2f1bcc45bea02972db50a236df"
          }
        },
        "d9dc2578faa544a9b0b4d5ff8c9a516e": {
          "model_module": "@jupyter-widgets/controls",
          "model_name": "HTMLModel",
          "state": {
            "_view_name": "HTMLView",
            "style": "IPY_MODEL_bd9d5b74cabd4639bdf25d7e5ec8c588",
            "_dom_classes": [],
            "description": "",
            "_model_name": "HTMLModel",
            "placeholder": "​",
            "_view_module": "@jupyter-widgets/controls",
            "_model_module_version": "1.5.0",
            "value": " 8192/? [00:00&lt;00:00, 33384.22it/s]",
            "_view_count": null,
            "_view_module_version": "1.5.0",
            "description_tooltip": null,
            "_model_module": "@jupyter-widgets/controls",
            "layout": "IPY_MODEL_28e0c9a6c8c74c6ca2163a5805715c76"
          }
        },
        "3802b1c5ed184bca8577b6b63cbb9f45": {
          "model_module": "@jupyter-widgets/controls",
          "model_name": "ProgressStyleModel",
          "state": {
            "_view_name": "StyleView",
            "_model_name": "ProgressStyleModel",
            "description_width": "initial",
            "_view_module": "@jupyter-widgets/base",
            "_model_module_version": "1.5.0",
            "_view_count": null,
            "_view_module_version": "1.2.0",
            "bar_color": null,
            "_model_module": "@jupyter-widgets/controls"
          }
        },
        "8a7f9c2f1bcc45bea02972db50a236df": {
          "model_module": "@jupyter-widgets/base",
          "model_name": "LayoutModel",
          "state": {
            "_view_name": "LayoutView",
            "grid_template_rows": null,
            "right": null,
            "justify_content": null,
            "_view_module": "@jupyter-widgets/base",
            "overflow": null,
            "_model_module_version": "1.2.0",
            "_view_count": null,
            "flex_flow": null,
            "width": null,
            "min_width": null,
            "border": null,
            "align_items": null,
            "bottom": null,
            "_model_module": "@jupyter-widgets/base",
            "top": null,
            "grid_column": null,
            "overflow_y": null,
            "overflow_x": null,
            "grid_auto_flow": null,
            "grid_area": null,
            "grid_template_columns": null,
            "flex": null,
            "_model_name": "LayoutModel",
            "justify_items": null,
            "grid_row": null,
            "max_height": null,
            "align_content": null,
            "visibility": null,
            "align_self": null,
            "height": null,
            "min_height": null,
            "padding": null,
            "grid_auto_rows": null,
            "grid_gap": null,
            "max_width": null,
            "order": null,
            "_view_module_version": "1.2.0",
            "grid_template_areas": null,
            "object_position": null,
            "object_fit": null,
            "grid_auto_columns": null,
            "margin": null,
            "display": null,
            "left": null
          }
        },
        "bd9d5b74cabd4639bdf25d7e5ec8c588": {
          "model_module": "@jupyter-widgets/controls",
          "model_name": "DescriptionStyleModel",
          "state": {
            "_view_name": "StyleView",
            "_model_name": "DescriptionStyleModel",
            "description_width": "",
            "_view_module": "@jupyter-widgets/base",
            "_model_module_version": "1.5.0",
            "_view_count": null,
            "_view_module_version": "1.2.0",
            "_model_module": "@jupyter-widgets/controls"
          }
        },
        "28e0c9a6c8c74c6ca2163a5805715c76": {
          "model_module": "@jupyter-widgets/base",
          "model_name": "LayoutModel",
          "state": {
            "_view_name": "LayoutView",
            "grid_template_rows": null,
            "right": null,
            "justify_content": null,
            "_view_module": "@jupyter-widgets/base",
            "overflow": null,
            "_model_module_version": "1.2.0",
            "_view_count": null,
            "flex_flow": null,
            "width": null,
            "min_width": null,
            "border": null,
            "align_items": null,
            "bottom": null,
            "_model_module": "@jupyter-widgets/base",
            "top": null,
            "grid_column": null,
            "overflow_y": null,
            "overflow_x": null,
            "grid_auto_flow": null,
            "grid_area": null,
            "grid_template_columns": null,
            "flex": null,
            "_model_name": "LayoutModel",
            "justify_items": null,
            "grid_row": null,
            "max_height": null,
            "align_content": null,
            "visibility": null,
            "align_self": null,
            "height": null,
            "min_height": null,
            "padding": null,
            "grid_auto_rows": null,
            "grid_gap": null,
            "max_width": null,
            "order": null,
            "_view_module_version": "1.2.0",
            "grid_template_areas": null,
            "object_position": null,
            "object_fit": null,
            "grid_auto_columns": null,
            "margin": null,
            "display": null,
            "left": null
          }
        }
      }
    }
  },
  "cells": [
    {
      "cell_type": "markdown",
      "metadata": {
        "id": "oGfS2g6XvFEw"
      },
      "source": [
        "<table class=\"tfo-notebook-buttons\" align=\"left\">\n",
        "  <td>\n",
        "    <a target=\"_blank\" href=\"https://colab.research.google.com/github/sjchoi86/upstage-basic-deeplearning/blob/main/notebook/cnn.ipynb\"><img src=\"https://www.tensorflow.org/images/colab_logo_32px.png\" />Colab</a>\n",
        "  </td>\n",
        "  <td>\n",
        "    <a target=\"_blank\" href=\"https://github.com/sjchoi86/upstage-basic-deeplearning/blob/main/notebook/cnn.ipynb\"><img src=\"https://www.tensorflow.org/images/GitHub-Mark-32px.png\" />View Source</a>\n",
        "  </td>\n",
        "</table>"
      ]
    },
    {
      "cell_type": "markdown",
      "metadata": {
        "id": "FJIOvMYGLFH6"
      },
      "source": [
        "# Convolutional Neural Network (CNN)"
      ]
    },
    {
      "cell_type": "code",
      "metadata": {
        "id": "khkLmD7yK_ei",
        "colab": {
          "base_uri": "https://localhost:8080/"
        },
        "outputId": "52b1131a-9346-488b-e208-f516eb175369"
      },
      "source": [
        "import numpy as np\n",
        "import matplotlib.pyplot as plt\n",
        "import torch\n",
        "import torch.nn as nn\n",
        "import torch.optim as optim\n",
        "import torch.nn.functional as F\n",
        "%matplotlib inline\n",
        "%config InlineBackend.figure_format='retina'\n",
        "print (\"PyTorch version:[%s].\"%(torch.__version__))\n",
        "device = torch.device('cuda:0' if torch.cuda.is_available() else 'cpu')\n",
        "print (\"device:[%s].\"%(device))"
      ],
      "execution_count": null,
      "outputs": [
        {
          "output_type": "stream",
          "text": [
            "PyTorch version:[1.7.0+cu101].\n",
            "device:[cuda:0].\n"
          ],
          "name": "stdout"
        }
      ]
    },
    {
      "cell_type": "markdown",
      "metadata": {
        "id": "aciwjqf7MsTa"
      },
      "source": [
        "### Dataset"
      ]
    },
    {
      "cell_type": "code",
      "metadata": {
        "id": "GojZi6XMLZZ5",
        "colab": {
          "base_uri": "https://localhost:8080/",
          "height": 759,
          "referenced_widgets": [
            "9f5fcc220eff4bb2b05761e2b8a409ae",
            "953334efa4d34f7d9b61d4c67d8e3671",
            "ab70068a5f7948c79b0df57d115bc918",
            "e9ee6c3690d042f38704ac418ecfcc3f",
            "9c53a87541344b23a74f38db65a32c37",
            "fe2539c57b494e4b913cbf7220e5632b",
            "4baec2e6e39c4638b08f1e5db7a29a5d",
            "6f39394c941b4f87a512e85a14a53aa7",
            "3a6f1452091e44e49991d05db4af97b0",
            "a6bbd031c222461085b049cfb21f5e06",
            "04a15a389e4a41d68a894a1d57719dd1",
            "e4a6ea6dc9a04480a00da5353c969646",
            "7a722f5cd8d14c10834e072c47f8454f",
            "32054fe745bd494a9339af6d2048fdcb",
            "d434f7bfe9cd4638b68c2008d9bdd1e7",
            "b8a76d054a454aa5afba6fb68d6cafab",
            "e0c9b581b8504405a3a64b3729f0d212",
            "15c61629d7be49dc8226450c462e4290",
            "524aa9cddbba4294bc9cfe59c4eca45e",
            "42d9f9864c59447597216682f0ddd0b3",
            "60e828c7fc234527923ae32f64ec9fae",
            "4013782a5beb4dfe93bcc51d5f649f34",
            "5217a1e460e44a6d86f1053d75567fde",
            "872c1c941aad46c3b78d7e998a8ea868",
            "ada96f7385fa4756831d098ba5e4935e",
            "58af20c2438a4d15ae73267e1b5d1ae1",
            "8d08a3206f6c4590bca65e33aad4ea3d",
            "d9dc2578faa544a9b0b4d5ff8c9a516e",
            "3802b1c5ed184bca8577b6b63cbb9f45",
            "8a7f9c2f1bcc45bea02972db50a236df",
            "bd9d5b74cabd4639bdf25d7e5ec8c588",
            "28e0c9a6c8c74c6ca2163a5805715c76"
          ]
        },
        "outputId": "6f8a643e-1124-4927-f60c-cf67a4281773"
      },
      "source": [
        "from torchvision import datasets,transforms\n",
        "mnist_train = datasets.MNIST(root='./data/',train=True,transform=transforms.ToTensor(),download=True)\n",
        "mnist_test = datasets.MNIST(root='./data/',train=False,transform=transforms.ToTensor(),download=True)\n",
        "print (\"mnist_train:\\n\",mnist_train,\"\\n\")\n",
        "print (\"mnist_test:\\n\",mnist_test,\"\\n\")\n",
        "print (\"Done.\")"
      ],
      "execution_count": null,
      "outputs": [
        {
          "output_type": "stream",
          "text": [
            "Downloading http://yann.lecun.com/exdb/mnist/train-images-idx3-ubyte.gz to ./data/MNIST/raw/train-images-idx3-ubyte.gz\n"
          ],
          "name": "stdout"
        },
        {
          "output_type": "display_data",
          "data": {
            "application/vnd.jupyter.widget-view+json": {
              "model_id": "9f5fcc220eff4bb2b05761e2b8a409ae",
              "version_minor": 0,
              "version_major": 2
            },
            "text/plain": [
              "HBox(children=(FloatProgress(value=1.0, bar_style='info', max=1.0), HTML(value='')))"
            ]
          },
          "metadata": {
            "tags": []
          }
        },
        {
          "output_type": "stream",
          "text": [
            "Extracting ./data/MNIST/raw/train-images-idx3-ubyte.gz to ./data/MNIST/raw\n",
            "Downloading http://yann.lecun.com/exdb/mnist/train-labels-idx1-ubyte.gz to ./data/MNIST/raw/train-labels-idx1-ubyte.gz\n"
          ],
          "name": "stdout"
        },
        {
          "output_type": "display_data",
          "data": {
            "application/vnd.jupyter.widget-view+json": {
              "model_id": "3a6f1452091e44e49991d05db4af97b0",
              "version_minor": 0,
              "version_major": 2
            },
            "text/plain": [
              "HBox(children=(FloatProgress(value=1.0, bar_style='info', max=1.0), HTML(value='')))"
            ]
          },
          "metadata": {
            "tags": []
          }
        },
        {
          "output_type": "stream",
          "text": [
            "Extracting ./data/MNIST/raw/train-labels-idx1-ubyte.gz to ./data/MNIST/raw\n",
            "Downloading http://yann.lecun.com/exdb/mnist/t10k-images-idx3-ubyte.gz to ./data/MNIST/raw/t10k-images-idx3-ubyte.gz\n"
          ],
          "name": "stdout"
        },
        {
          "output_type": "display_data",
          "data": {
            "application/vnd.jupyter.widget-view+json": {
              "model_id": "e0c9b581b8504405a3a64b3729f0d212",
              "version_minor": 0,
              "version_major": 2
            },
            "text/plain": [
              "HBox(children=(FloatProgress(value=1.0, bar_style='info', max=1.0), HTML(value='')))"
            ]
          },
          "metadata": {
            "tags": []
          }
        },
        {
          "output_type": "stream",
          "text": [
            "Extracting ./data/MNIST/raw/t10k-images-idx3-ubyte.gz to ./data/MNIST/raw\n",
            "Downloading http://yann.lecun.com/exdb/mnist/t10k-labels-idx1-ubyte.gz to ./data/MNIST/raw/t10k-labels-idx1-ubyte.gz\n"
          ],
          "name": "stdout"
        },
        {
          "output_type": "display_data",
          "data": {
            "application/vnd.jupyter.widget-view+json": {
              "model_id": "ada96f7385fa4756831d098ba5e4935e",
              "version_minor": 0,
              "version_major": 2
            },
            "text/plain": [
              "HBox(children=(FloatProgress(value=1.0, bar_style='info', max=1.0), HTML(value='')))"
            ]
          },
          "metadata": {
            "tags": []
          }
        },
        {
          "output_type": "stream",
          "text": [
            "Extracting ./data/MNIST/raw/t10k-labels-idx1-ubyte.gz to ./data/MNIST/raw\n",
            "Processing...\n",
            "\n",
            "\n",
            "\n",
            "\n",
            "Done!\n",
            "mnist_train:\n",
            " Dataset MNIST\n",
            "    Number of datapoints: 60000\n",
            "    Root location: ./data/\n",
            "    Split: Train\n",
            "    StandardTransform\n",
            "Transform: ToTensor() \n",
            "\n",
            "mnist_test:\n",
            " Dataset MNIST\n",
            "    Number of datapoints: 10000\n",
            "    Root location: ./data/\n",
            "    Split: Test\n",
            "    StandardTransform\n",
            "Transform: ToTensor() \n",
            "\n",
            "Done.\n"
          ],
          "name": "stdout"
        },
        {
          "output_type": "stream",
          "text": [
            "/usr/local/lib/python3.6/dist-packages/torchvision/datasets/mnist.py:480: UserWarning: The given NumPy array is not writeable, and PyTorch does not support non-writeable tensors. This means you can write to the underlying (supposedly non-writeable) NumPy array using the tensor. You may want to copy the array to protect its data or make it writeable before converting it to a tensor. This type of warning will be suppressed for the rest of this program. (Triggered internally at  /pytorch/torch/csrc/utils/tensor_numpy.cpp:141.)\n",
            "  return torch.from_numpy(parsed.astype(m[2], copy=False)).view(*s)\n"
          ],
          "name": "stderr"
        }
      ]
    },
    {
      "cell_type": "markdown",
      "metadata": {
        "id": "vD9uNmGDN3Fx"
      },
      "source": [
        "### Data Iterator"
      ]
    },
    {
      "cell_type": "code",
      "metadata": {
        "id": "kt2NQt92LaP8",
        "colab": {
          "base_uri": "https://localhost:8080/"
        },
        "outputId": "55eef90d-dac5-4319-fa59-6bfc5c33e958"
      },
      "source": [
        "BATCH_SIZE = 256\n",
        "train_iter = torch.utils.data.DataLoader(mnist_train,batch_size=BATCH_SIZE,shuffle=True,num_workers=1)\n",
        "test_iter = torch.utils.data.DataLoader(mnist_test,batch_size=BATCH_SIZE,shuffle=True,num_workers=1)\n",
        "print (\"Done.\")"
      ],
      "execution_count": null,
      "outputs": [
        {
          "output_type": "stream",
          "text": [
            "Done.\n"
          ],
          "name": "stdout"
        }
      ]
    },
    {
      "cell_type": "markdown",
      "metadata": {
        "id": "Kx8FI2g3ONca"
      },
      "source": [
        "### Define Model"
      ]
    },
    {
      "cell_type": "code",
      "metadata": {
        "id": "hMBOgjaVLalV",
        "colab": {
          "base_uri": "https://localhost:8080/"
        },
        "outputId": "f332035c-5125-4b15-c817-f9dd00bb59e4"
      },
      "source": [
        "class ConvolutionalNeuralNetworkClass(nn.Module):\n",
        "    \"\"\"\n",
        "        Convolutional Neural Network (CNN) Class\n",
        "    \"\"\"\n",
        "    def __init__(self,name='cnn',xdim=[1,28,28],\n",
        "                 ksize=3,cdims=[32,64],hdims=[1024,128],ydim=10,\n",
        "                 USE_BATCHNORM=False):\n",
        "        super(ConvolutionalNeuralNetworkClass,self).__init__()\n",
        "        self.name = name\n",
        "        self.xdim = xdim\n",
        "        self.ksize = ksize\n",
        "        self.cdims = cdims\n",
        "        self.hdims = hdims\n",
        "        self.ydim = ydim\n",
        "        self.USE_BATCHNORM = USE_BATCHNORM\n",
        "\n",
        "        # Convolutional layers\n",
        "        self.layers = []\n",
        "        prev_cdim = self.xdim[0]\n",
        "        for cdim in self.cdims: # for each hidden layer\n",
        "            self.layers.append(\n",
        "                nn.Conv2d(\n",
        "                    prev_cdim, cdim, 2, stride=1, padding=True\n",
        "                )) # convlution \n",
        "            if self.USE_BATCHNORM:\n",
        "                self.layers.append(nn.BatchNorm2d(cdim)) # batch-norm\n",
        "            self.layers.append(nn.ReLU(True))  # activation\n",
        "            self.layers.append(nn.MaxPool2d(kernel_size=(2,2), stride=(2,2))) # max-pooling \n",
        "            self.layers.append(nn.Dropout2d(p=0.5))  # dropout\n",
        "            prev_cdim = cdim\n",
        "\n",
        "        # Dense layers\n",
        "        self.layers.append(nn.Flatten())\n",
        "        prev_hdim = prev_cdim*(self.xdim[1]//(2**len(self.cdims)))*(self.xdim[2]//(2**len(self.cdims)))\n",
        "        for hdim in self.hdims:\n",
        "            self.layers.append(nn.Linear(\n",
        "                prev_hdim, hdim\n",
        "                               ))\n",
        "            self.layers.append(nn.ReLU(True))  # activation\n",
        "            prev_hdim = hdim\n",
        "        # Final layer (without activation)\n",
        "        self.layers.append(nn.Linear(prev_hdim,self.ydim,bias=True))\n",
        "\n",
        "        # Concatenate all layers \n",
        "        self.net = nn.Sequential()\n",
        "        for l_idx,layer in enumerate(self.layers):\n",
        "            layer_name = \"%s_%02d\"%(type(layer).__name__.lower(),l_idx)\n",
        "            self.net.add_module(layer_name,layer)\n",
        "        self.init_param() # initialize parameters\n",
        "        \n",
        "    def init_param(self):\n",
        "        for m in self.modules():\n",
        "            if isinstance(m,nn.Conv2d): # init conv\n",
        "                nn.init.kaiming_normal_(m.weight)\n",
        "                nn.init.zeros_(m.bias)\n",
        "            elif isinstance(m,nn.BatchNorm2d): # init BN\n",
        "                nn.init.constant_(m.weight,1)\n",
        "                nn.init.constant_(m.bias,0)\n",
        "            elif isinstance(m,nn.Linear): # lnit dense\n",
        "                nn.init.kaiming_normal_(m.weight)\n",
        "                nn.init.zeros_(m.bias)\n",
        "            \n",
        "    def forward(self,x):\n",
        "        print(x.shape)\n",
        "        return self.net(x)\n",
        "\n",
        "C = ConvolutionalNeuralNetworkClass(\n",
        "    name='cnn',xdim=[1,28,28],ksize=3,cdims=[32,64],\n",
        "    hdims=[32],ydim=10).to(device)\n",
        "loss = nn.CrossEntropyLoss()\n",
        "optm = optim.Adam(C.parameters(),lr=1e-3)\n",
        "print (\"Done.\")"
      ],
      "execution_count": null,
      "outputs": [
        {
          "output_type": "stream",
          "text": [
            "Done.\n"
          ],
          "name": "stdout"
        }
      ]
    },
    {
      "cell_type": "code",
      "metadata": {
        "colab": {
          "base_uri": "https://localhost:8080/"
        },
        "id": "kb6_o6A_emsG",
        "outputId": "af9ad498-0b5a-4a6a-e0ea-20a1d0622adb"
      },
      "source": [
        ""
      ],
      "execution_count": null,
      "outputs": [
        {
          "output_type": "stream",
          "text": [
            "torch.Size([2, 1, 28, 28])\n",
            "----------------------------------------------------------------\n",
            "        Layer (type)               Output Shape         Param #\n",
            "================================================================\n",
            "            Conv2d-1           [-1, 32, 29, 29]             160\n",
            "              ReLU-2           [-1, 32, 29, 29]               0\n",
            "         MaxPool2d-3           [-1, 32, 14, 14]               0\n",
            "         Dropout2d-4           [-1, 32, 14, 14]               0\n",
            "            Conv2d-5           [-1, 64, 15, 15]           8,256\n",
            "              ReLU-6           [-1, 64, 15, 15]               0\n",
            "         MaxPool2d-7             [-1, 64, 7, 7]               0\n",
            "         Dropout2d-8             [-1, 64, 7, 7]               0\n",
            "           Flatten-9                 [-1, 3136]               0\n",
            "           Linear-10                   [-1, 32]         100,384\n",
            "             ReLU-11                   [-1, 32]               0\n",
            "           Linear-12                   [-1, 10]             330\n",
            "================================================================\n",
            "Total params: 109,130\n",
            "Trainable params: 109,130\n",
            "Non-trainable params: 0\n",
            "----------------------------------------------------------------\n",
            "Input size (MB): 0.00\n",
            "Forward/backward pass size (MB): 0.80\n",
            "Params size (MB): 0.42\n",
            "Estimated Total Size (MB): 1.22\n",
            "----------------------------------------------------------------\n"
          ],
          "name": "stdout"
        }
      ]
    },
    {
      "cell_type": "markdown",
      "metadata": {
        "id": "Gd4GqagEaaxP"
      },
      "source": [
        "### Check Parameters"
      ]
    },
    {
      "cell_type": "code",
      "metadata": {
        "id": "s9JhupRpaahm",
        "colab": {
          "base_uri": "https://localhost:8080/"
        },
        "outputId": "69d29257-09f8-4d1a-bdb8-84f48e841d56"
      },
      "source": [
        "np.set_printoptions(precision=3)\n",
        "n_param = 0\n",
        "for p_idx,(param_name,param) in enumerate(C.named_parameters()):\n",
        "    if param.requires_grad:\n",
        "        param_numpy = param.detach().cpu().numpy() # to numpy array \n",
        "        n_param += len(param_numpy.reshape(-1))\n",
        "        print (\"[%d] name:[%s] shape:[%s].\"%(p_idx,param_name,param_numpy.shape))\n",
        "        print (\"    val:%s\"%(param_numpy.reshape(-1)[:5]))\n",
        "print (\"Total number of parameters:[%s].\"%(format(n_param,',d')))"
      ],
      "execution_count": null,
      "outputs": [
        {
          "output_type": "stream",
          "text": [
            "[0] name:[net.conv2d_00.weight] shape:[(32, 1, 2, 2)].\n",
            "    val:[-0.225  1.635  0.317  0.435  0.78 ]\n",
            "[1] name:[net.conv2d_00.bias] shape:[(32,)].\n",
            "    val:[0. 0. 0. 0. 0.]\n",
            "[2] name:[net.conv2d_04.weight] shape:[(64, 32, 2, 2)].\n",
            "    val:[ 0.112  0.096  0.015 -0.069 -0.105]\n",
            "[3] name:[net.conv2d_04.bias] shape:[(64,)].\n",
            "    val:[0. 0. 0. 0. 0.]\n",
            "[4] name:[net.linear_09.weight] shape:[(32, 3136)].\n",
            "    val:[ 0.019 -0.008 -0.     0.016  0.03 ]\n",
            "[5] name:[net.linear_09.bias] shape:[(32,)].\n",
            "    val:[0. 0. 0. 0. 0.]\n",
            "[6] name:[net.linear_11.weight] shape:[(10, 32)].\n",
            "    val:[-0.122  0.12  -0.204  0.013 -0.089]\n",
            "[7] name:[net.linear_11.bias] shape:[(10,)].\n",
            "    val:[0. 0. 0. 0. 0.]\n",
            "Total number of parameters:[109,130].\n"
          ],
          "name": "stdout"
        }
      ]
    },
    {
      "cell_type": "markdown",
      "metadata": {
        "id": "i574DsE8Z039"
      },
      "source": [
        "### Simple Forward Path of the CNN Model"
      ]
    },
    {
      "cell_type": "code",
      "metadata": {
        "id": "cJl7XSQMORAZ",
        "colab": {
          "base_uri": "https://localhost:8080/"
        },
        "outputId": "e9b90c5e-ebf6-404f-ba5f-371907f3745e"
      },
      "source": [
        "np.set_printoptions(precision=3)\n",
        "torch.set_printoptions(precision=3)\n",
        "x_numpy = np.random.rand(2,1,28,28)\n",
        "x_torch = torch.from_numpy(x_numpy).float().to(device)\n",
        "y_torch = C.forward(x_torch) # forward path\n",
        "y_numpy = y_torch.detach().cpu().numpy() # torch tensor to numpy array\n",
        "print (\"x_torch:\\n\",x_torch)\n",
        "print (\"y_torch:\\n\",y_torch)\n",
        "print (\"\\nx_numpy %s:\\n\"%(x_numpy.shape,),x_numpy)\n",
        "print (\"y_numpy %s:\\n\"%(y_numpy.shape,),y_numpy)"
      ],
      "execution_count": null,
      "outputs": [
        {
          "output_type": "stream",
          "text": [
            "torch.Size([2, 1, 28, 28])\n",
            "x_torch:\n",
            " tensor([[[[0.749, 0.288, 0.664,  ..., 0.340, 0.821, 0.757],\n",
            "          [0.831, 0.798, 0.064,  ..., 0.471, 0.741, 0.100],\n",
            "          [0.757, 0.220, 0.704,  ..., 0.972, 0.246, 0.840],\n",
            "          ...,\n",
            "          [0.495, 0.268, 0.019,  ..., 0.836, 0.921, 0.006],\n",
            "          [0.373, 0.532, 0.392,  ..., 0.381, 0.371, 0.590],\n",
            "          [0.336, 0.775, 0.494,  ..., 0.025, 0.754, 0.681]]],\n",
            "\n",
            "\n",
            "        [[[0.780, 0.186, 0.131,  ..., 0.442, 0.050, 0.892],\n",
            "          [0.663, 0.779, 0.040,  ..., 0.623, 0.369, 0.389],\n",
            "          [0.803, 0.179, 0.897,  ..., 0.836, 0.166, 0.194],\n",
            "          ...,\n",
            "          [0.857, 0.949, 0.043,  ..., 0.693, 0.197, 0.358],\n",
            "          [0.794, 0.188, 0.747,  ..., 0.155, 0.602, 0.649],\n",
            "          [0.071, 0.805, 0.092,  ..., 0.607, 0.063, 0.512]]]], device='cuda:0')\n",
            "y_torch:\n",
            " tensor([[ 1.470,  1.488, -0.184, -1.516,  0.230, -1.500, -2.778, -1.556, -0.544,\n",
            "          0.232],\n",
            "        [ 0.603,  0.343,  1.231, -0.708, -0.252,  0.811, -0.458, -0.734, -0.047,\n",
            "          0.434]], device='cuda:0', grad_fn=<AddmmBackward>)\n",
            "\n",
            "x_numpy (2, 1, 28, 28):\n",
            " [[[[0.749 0.288 0.664 ... 0.34  0.821 0.757]\n",
            "   [0.831 0.798 0.064 ... 0.471 0.741 0.1  ]\n",
            "   [0.757 0.22  0.704 ... 0.972 0.246 0.84 ]\n",
            "   ...\n",
            "   [0.495 0.268 0.019 ... 0.836 0.921 0.006]\n",
            "   [0.373 0.532 0.392 ... 0.381 0.371 0.59 ]\n",
            "   [0.336 0.775 0.494 ... 0.025 0.754 0.681]]]\n",
            "\n",
            "\n",
            " [[[0.78  0.186 0.131 ... 0.442 0.05  0.892]\n",
            "   [0.663 0.779 0.04  ... 0.623 0.369 0.389]\n",
            "   [0.803 0.179 0.897 ... 0.836 0.166 0.194]\n",
            "   ...\n",
            "   [0.857 0.949 0.043 ... 0.693 0.197 0.358]\n",
            "   [0.794 0.188 0.747 ... 0.155 0.602 0.649]\n",
            "   [0.071 0.805 0.092 ... 0.607 0.063 0.512]]]]\n",
            "y_numpy (2, 10):\n",
            " [[ 1.47   1.488 -0.184 -1.516  0.23  -1.5   -2.778 -1.556 -0.544  0.232]\n",
            " [ 0.603  0.343  1.231 -0.708 -0.252  0.811 -0.458 -0.734 -0.047  0.434]]\n"
          ],
          "name": "stdout"
        }
      ]
    },
    {
      "cell_type": "markdown",
      "metadata": {
        "id": "9-qCaXAKcOLx"
      },
      "source": [
        "### Evaluation Function"
      ]
    },
    {
      "cell_type": "code",
      "metadata": {
        "id": "q9LmS7OqcNzh",
        "colab": {
          "base_uri": "https://localhost:8080/"
        },
        "outputId": "ecf8ad0e-2d25-4fea-b014-f888913bf4bf"
      },
      "source": [
        "def func_eval(model,data_iter,device):\n",
        "    with torch.no_grad():\n",
        "        n_total,n_correct = 0,0\n",
        "        model.eval() # evaluate (affects DropOut and BN)\n",
        "        for batch_in,batch_out in data_iter:\n",
        "            y_trgt = batch_out.to(device)\n",
        "            model_pred = model(batch_in.view(-1,1,28,28).to(device))\n",
        "            _,y_pred = torch.max(model_pred.data,1)\n",
        "            n_correct += (y_pred==y_trgt).sum().item()\n",
        "            n_total += batch_in.size(0)\n",
        "        val_accr = (n_correct/n_total)\n",
        "        model.train() # back to train mode \n",
        "    return val_accr\n",
        "print (\"Done\")"
      ],
      "execution_count": null,
      "outputs": [
        {
          "output_type": "stream",
          "text": [
            "Done\n"
          ],
          "name": "stdout"
        }
      ]
    },
    {
      "cell_type": "markdown",
      "metadata": {
        "id": "iy7XZ21CiNZA"
      },
      "source": [
        "### Initial Evaluation"
      ]
    },
    {
      "cell_type": "code",
      "metadata": {
        "id": "EMR1DaAyLa5Y",
        "colab": {
          "base_uri": "https://localhost:8080/"
        },
        "outputId": "5feb6d92-8250-4c02-a59c-6a671fb42c7a"
      },
      "source": [
        "C.init_param() # initialize parameters\n",
        "train_accr = func_eval(C,train_iter,device)\n",
        "test_accr = func_eval(C,test_iter,device)\n",
        "print (\"train_accr:[%.3f] test_accr:[%.3f].\"%(train_accr,test_accr))"
      ],
      "execution_count": null,
      "outputs": [
        {
          "output_type": "stream",
          "text": [
            "torch.Size([256, 1, 28, 28])\n",
            "torch.Size([256, 1, 28, 28])\n",
            "torch.Size([256, 1, 28, 28])\n",
            "torch.Size([256, 1, 28, 28])\n",
            "torch.Size([256, 1, 28, 28])\n",
            "torch.Size([256, 1, 28, 28])\n",
            "torch.Size([256, 1, 28, 28])\n",
            "torch.Size([256, 1, 28, 28])\n",
            "torch.Size([256, 1, 28, 28])\n",
            "torch.Size([256, 1, 28, 28])\n",
            "torch.Size([256, 1, 28, 28])\n",
            "torch.Size([256, 1, 28, 28])\n",
            "torch.Size([256, 1, 28, 28])\n",
            "torch.Size([256, 1, 28, 28])\n",
            "torch.Size([256, 1, 28, 28])\n",
            "torch.Size([256, 1, 28, 28])\n",
            "torch.Size([256, 1, 28, 28])\n",
            "torch.Size([256, 1, 28, 28])\n",
            "torch.Size([256, 1, 28, 28])\n",
            "torch.Size([256, 1, 28, 28])\n",
            "torch.Size([256, 1, 28, 28])\n",
            "torch.Size([256, 1, 28, 28])\n",
            "torch.Size([256, 1, 28, 28])\n",
            "torch.Size([256, 1, 28, 28])\n",
            "torch.Size([256, 1, 28, 28])\n",
            "torch.Size([256, 1, 28, 28])\n",
            "torch.Size([256, 1, 28, 28])\n",
            "torch.Size([256, 1, 28, 28])\n",
            "torch.Size([256, 1, 28, 28])\n",
            "torch.Size([256, 1, 28, 28])\n",
            "torch.Size([256, 1, 28, 28])\n",
            "torch.Size([256, 1, 28, 28])\n",
            "torch.Size([256, 1, 28, 28])\n",
            "torch.Size([256, 1, 28, 28])\n",
            "torch.Size([256, 1, 28, 28])\n",
            "torch.Size([256, 1, 28, 28])\n",
            "torch.Size([256, 1, 28, 28])\n",
            "torch.Size([256, 1, 28, 28])\n",
            "torch.Size([256, 1, 28, 28])\n",
            "torch.Size([256, 1, 28, 28])\n",
            "torch.Size([256, 1, 28, 28])\n",
            "torch.Size([256, 1, 28, 28])\n",
            "torch.Size([256, 1, 28, 28])\n",
            "torch.Size([256, 1, 28, 28])\n",
            "torch.Size([256, 1, 28, 28])\n",
            "torch.Size([256, 1, 28, 28])\n",
            "torch.Size([256, 1, 28, 28])\n",
            "torch.Size([256, 1, 28, 28])\n",
            "torch.Size([256, 1, 28, 28])\n",
            "torch.Size([256, 1, 28, 28])\n",
            "torch.Size([256, 1, 28, 28])\n",
            "torch.Size([256, 1, 28, 28])\n",
            "torch.Size([256, 1, 28, 28])\n",
            "torch.Size([256, 1, 28, 28])\n",
            "torch.Size([256, 1, 28, 28])\n",
            "torch.Size([256, 1, 28, 28])\n",
            "torch.Size([256, 1, 28, 28])\n",
            "torch.Size([256, 1, 28, 28])\n",
            "torch.Size([256, 1, 28, 28])\n",
            "torch.Size([256, 1, 28, 28])\n",
            "torch.Size([256, 1, 28, 28])\n",
            "torch.Size([256, 1, 28, 28])\n",
            "torch.Size([256, 1, 28, 28])\n",
            "torch.Size([256, 1, 28, 28])\n",
            "torch.Size([256, 1, 28, 28])\n",
            "torch.Size([256, 1, 28, 28])\n",
            "torch.Size([256, 1, 28, 28])\n",
            "torch.Size([256, 1, 28, 28])\n",
            "torch.Size([256, 1, 28, 28])\n",
            "torch.Size([256, 1, 28, 28])\n",
            "torch.Size([256, 1, 28, 28])\n",
            "torch.Size([256, 1, 28, 28])\n",
            "torch.Size([256, 1, 28, 28])\n",
            "torch.Size([256, 1, 28, 28])\n",
            "torch.Size([256, 1, 28, 28])\n",
            "torch.Size([256, 1, 28, 28])\n",
            "torch.Size([256, 1, 28, 28])\n",
            "torch.Size([256, 1, 28, 28])\n",
            "torch.Size([256, 1, 28, 28])\n",
            "torch.Size([256, 1, 28, 28])\n",
            "torch.Size([256, 1, 28, 28])\n",
            "torch.Size([256, 1, 28, 28])\n",
            "torch.Size([256, 1, 28, 28])\n",
            "torch.Size([256, 1, 28, 28])\n",
            "torch.Size([256, 1, 28, 28])\n",
            "torch.Size([256, 1, 28, 28])\n",
            "torch.Size([256, 1, 28, 28])\n",
            "torch.Size([256, 1, 28, 28])\n",
            "torch.Size([256, 1, 28, 28])\n",
            "torch.Size([256, 1, 28, 28])\n",
            "torch.Size([256, 1, 28, 28])\n",
            "torch.Size([256, 1, 28, 28])\n",
            "torch.Size([256, 1, 28, 28])\n",
            "torch.Size([256, 1, 28, 28])\n",
            "torch.Size([256, 1, 28, 28])\n",
            "torch.Size([256, 1, 28, 28])\n",
            "torch.Size([256, 1, 28, 28])\n",
            "torch.Size([256, 1, 28, 28])\n",
            "torch.Size([256, 1, 28, 28])\n",
            "torch.Size([256, 1, 28, 28])\n",
            "torch.Size([256, 1, 28, 28])\n",
            "torch.Size([256, 1, 28, 28])\n",
            "torch.Size([256, 1, 28, 28])\n",
            "torch.Size([256, 1, 28, 28])\n",
            "torch.Size([256, 1, 28, 28])\n",
            "torch.Size([256, 1, 28, 28])\n",
            "torch.Size([256, 1, 28, 28])\n",
            "torch.Size([256, 1, 28, 28])\n",
            "torch.Size([256, 1, 28, 28])\n",
            "torch.Size([256, 1, 28, 28])\n",
            "torch.Size([256, 1, 28, 28])\n",
            "torch.Size([256, 1, 28, 28])\n",
            "torch.Size([256, 1, 28, 28])\n",
            "torch.Size([256, 1, 28, 28])\n",
            "torch.Size([256, 1, 28, 28])\n",
            "torch.Size([256, 1, 28, 28])\n",
            "torch.Size([256, 1, 28, 28])\n",
            "torch.Size([256, 1, 28, 28])\n",
            "torch.Size([256, 1, 28, 28])\n",
            "torch.Size([256, 1, 28, 28])\n",
            "torch.Size([256, 1, 28, 28])\n",
            "torch.Size([256, 1, 28, 28])\n",
            "torch.Size([256, 1, 28, 28])\n",
            "torch.Size([256, 1, 28, 28])\n",
            "torch.Size([256, 1, 28, 28])\n",
            "torch.Size([256, 1, 28, 28])\n",
            "torch.Size([256, 1, 28, 28])\n",
            "torch.Size([256, 1, 28, 28])\n",
            "torch.Size([256, 1, 28, 28])\n",
            "torch.Size([256, 1, 28, 28])\n",
            "torch.Size([256, 1, 28, 28])\n",
            "torch.Size([256, 1, 28, 28])\n",
            "torch.Size([256, 1, 28, 28])\n",
            "torch.Size([256, 1, 28, 28])\n",
            "torch.Size([256, 1, 28, 28])\n",
            "torch.Size([256, 1, 28, 28])\n",
            "torch.Size([256, 1, 28, 28])\n",
            "torch.Size([256, 1, 28, 28])\n",
            "torch.Size([256, 1, 28, 28])\n",
            "torch.Size([256, 1, 28, 28])\n",
            "torch.Size([256, 1, 28, 28])\n",
            "torch.Size([256, 1, 28, 28])\n",
            "torch.Size([256, 1, 28, 28])\n",
            "torch.Size([256, 1, 28, 28])\n",
            "torch.Size([256, 1, 28, 28])\n",
            "torch.Size([256, 1, 28, 28])\n",
            "torch.Size([256, 1, 28, 28])\n",
            "torch.Size([256, 1, 28, 28])\n",
            "torch.Size([256, 1, 28, 28])\n",
            "torch.Size([256, 1, 28, 28])\n",
            "torch.Size([256, 1, 28, 28])\n",
            "torch.Size([256, 1, 28, 28])\n",
            "torch.Size([256, 1, 28, 28])\n",
            "torch.Size([256, 1, 28, 28])\n",
            "torch.Size([256, 1, 28, 28])\n",
            "torch.Size([256, 1, 28, 28])\n",
            "torch.Size([256, 1, 28, 28])\n",
            "torch.Size([256, 1, 28, 28])\n",
            "torch.Size([256, 1, 28, 28])\n",
            "torch.Size([256, 1, 28, 28])\n",
            "torch.Size([256, 1, 28, 28])\n",
            "torch.Size([256, 1, 28, 28])\n",
            "torch.Size([256, 1, 28, 28])\n",
            "torch.Size([256, 1, 28, 28])\n",
            "torch.Size([256, 1, 28, 28])\n",
            "torch.Size([256, 1, 28, 28])\n",
            "torch.Size([256, 1, 28, 28])\n",
            "torch.Size([256, 1, 28, 28])\n",
            "torch.Size([256, 1, 28, 28])\n",
            "torch.Size([256, 1, 28, 28])\n",
            "torch.Size([256, 1, 28, 28])\n",
            "torch.Size([256, 1, 28, 28])\n",
            "torch.Size([256, 1, 28, 28])\n",
            "torch.Size([256, 1, 28, 28])\n",
            "torch.Size([256, 1, 28, 28])\n",
            "torch.Size([256, 1, 28, 28])\n",
            "torch.Size([256, 1, 28, 28])\n",
            "torch.Size([256, 1, 28, 28])\n",
            "torch.Size([256, 1, 28, 28])\n",
            "torch.Size([256, 1, 28, 28])\n",
            "torch.Size([256, 1, 28, 28])\n",
            "torch.Size([256, 1, 28, 28])\n",
            "torch.Size([256, 1, 28, 28])\n",
            "torch.Size([256, 1, 28, 28])\n",
            "torch.Size([256, 1, 28, 28])\n",
            "torch.Size([256, 1, 28, 28])\n",
            "torch.Size([256, 1, 28, 28])\n",
            "torch.Size([256, 1, 28, 28])\n",
            "torch.Size([256, 1, 28, 28])\n",
            "torch.Size([256, 1, 28, 28])\n",
            "torch.Size([256, 1, 28, 28])\n",
            "torch.Size([256, 1, 28, 28])\n",
            "torch.Size([256, 1, 28, 28])\n",
            "torch.Size([256, 1, 28, 28])\n",
            "torch.Size([256, 1, 28, 28])\n",
            "torch.Size([256, 1, 28, 28])\n",
            "torch.Size([256, 1, 28, 28])\n",
            "torch.Size([256, 1, 28, 28])\n",
            "torch.Size([256, 1, 28, 28])\n",
            "torch.Size([256, 1, 28, 28])\n",
            "torch.Size([256, 1, 28, 28])\n",
            "torch.Size([256, 1, 28, 28])\n",
            "torch.Size([256, 1, 28, 28])\n",
            "torch.Size([256, 1, 28, 28])\n",
            "torch.Size([256, 1, 28, 28])\n",
            "torch.Size([256, 1, 28, 28])\n",
            "torch.Size([256, 1, 28, 28])\n",
            "torch.Size([256, 1, 28, 28])\n",
            "torch.Size([256, 1, 28, 28])\n",
            "torch.Size([256, 1, 28, 28])\n",
            "torch.Size([256, 1, 28, 28])\n",
            "torch.Size([256, 1, 28, 28])\n",
            "torch.Size([256, 1, 28, 28])\n",
            "torch.Size([256, 1, 28, 28])\n",
            "torch.Size([256, 1, 28, 28])\n",
            "torch.Size([256, 1, 28, 28])\n",
            "torch.Size([256, 1, 28, 28])\n",
            "torch.Size([256, 1, 28, 28])\n",
            "torch.Size([256, 1, 28, 28])\n",
            "torch.Size([256, 1, 28, 28])\n",
            "torch.Size([256, 1, 28, 28])\n",
            "torch.Size([256, 1, 28, 28])\n",
            "torch.Size([256, 1, 28, 28])\n",
            "torch.Size([256, 1, 28, 28])\n",
            "torch.Size([256, 1, 28, 28])\n",
            "torch.Size([256, 1, 28, 28])\n",
            "torch.Size([256, 1, 28, 28])\n",
            "torch.Size([256, 1, 28, 28])\n",
            "torch.Size([256, 1, 28, 28])\n",
            "torch.Size([256, 1, 28, 28])\n",
            "torch.Size([256, 1, 28, 28])\n",
            "torch.Size([256, 1, 28, 28])\n",
            "torch.Size([256, 1, 28, 28])\n",
            "torch.Size([256, 1, 28, 28])\n",
            "torch.Size([96, 1, 28, 28])\n",
            "torch.Size([256, 1, 28, 28])\n",
            "torch.Size([256, 1, 28, 28])\n",
            "torch.Size([256, 1, 28, 28])\n",
            "torch.Size([256, 1, 28, 28])\n",
            "torch.Size([256, 1, 28, 28])\n",
            "torch.Size([256, 1, 28, 28])\n",
            "torch.Size([256, 1, 28, 28])\n",
            "torch.Size([256, 1, 28, 28])\n",
            "torch.Size([256, 1, 28, 28])\n",
            "torch.Size([256, 1, 28, 28])\n",
            "torch.Size([256, 1, 28, 28])\n",
            "torch.Size([256, 1, 28, 28])\n",
            "torch.Size([256, 1, 28, 28])\n",
            "torch.Size([256, 1, 28, 28])\n",
            "torch.Size([256, 1, 28, 28])\n",
            "torch.Size([256, 1, 28, 28])\n",
            "torch.Size([256, 1, 28, 28])\n",
            "torch.Size([256, 1, 28, 28])\n",
            "torch.Size([256, 1, 28, 28])\n",
            "torch.Size([256, 1, 28, 28])\n",
            "torch.Size([256, 1, 28, 28])\n",
            "torch.Size([256, 1, 28, 28])\n",
            "torch.Size([256, 1, 28, 28])\n",
            "torch.Size([256, 1, 28, 28])\n",
            "torch.Size([256, 1, 28, 28])\n",
            "torch.Size([256, 1, 28, 28])\n",
            "torch.Size([256, 1, 28, 28])\n",
            "torch.Size([256, 1, 28, 28])\n",
            "torch.Size([256, 1, 28, 28])\n",
            "torch.Size([256, 1, 28, 28])\n",
            "torch.Size([256, 1, 28, 28])\n",
            "torch.Size([256, 1, 28, 28])\n",
            "torch.Size([256, 1, 28, 28])\n",
            "torch.Size([256, 1, 28, 28])\n",
            "torch.Size([256, 1, 28, 28])\n",
            "torch.Size([256, 1, 28, 28])\n",
            "torch.Size([256, 1, 28, 28])\n",
            "torch.Size([256, 1, 28, 28])\n",
            "torch.Size([256, 1, 28, 28])\n",
            "torch.Size([16, 1, 28, 28])\n",
            "train_accr:[0.135] test_accr:[0.138].\n"
          ],
          "name": "stdout"
        }
      ]
    },
    {
      "cell_type": "markdown",
      "metadata": {
        "id": "c6s_S4BIipcT"
      },
      "source": [
        "### Train"
      ]
    },
    {
      "cell_type": "code",
      "metadata": {
        "id": "2LNJOJVCiO3k",
        "colab": {
          "base_uri": "https://localhost:8080/"
        },
        "outputId": "8e1488a2-3788-4647-b270-3ac2b54159e8"
      },
      "source": [
        "print (\"Start training.\")\n",
        "C.init_param() # initialize parameters\n",
        "C.train() # to train mode \n",
        "EPOCHS,print_every = 10,1\n",
        "for epoch in range(EPOCHS):\n",
        "    loss_val_sum = 0\n",
        "    for batch_in,batch_out in train_iter:\n",
        "        # Forward path\n",
        "        y_pred = C.forward(batch_in.view(-1,1,28,28).to(device))\n",
        "        loss_out = loss(y_pred,batch_out.to(device))\n",
        "        # Update\n",
        "\n",
        "        # reset gradient\n",
        "        optm.zero_grad()\n",
        "        # backpropagate\n",
        "        loss_out.backward()\n",
        "        # optimizer update\n",
        "        optm.step()\n",
        "        loss_val_sum += loss_out\n",
        "    loss_val_avg = loss_val_sum/len(train_iter)\n",
        "    # Print\n",
        "    if ((epoch%print_every)==0) or (epoch==(EPOCHS-1)):\n",
        "        train_accr = func_eval(C,train_iter,device)\n",
        "        test_accr = func_eval(C,test_iter,device)\n",
        "        print (\"epoch:[%d] loss:[%.3f] train_accr:[%.3f] test_accr:[%.3f].\"%\n",
        "               (epoch,loss_val_avg,train_accr,test_accr))\n",
        "print (\"Done\")"
      ],
      "execution_count": null,
      "outputs": [
        {
          "output_type": "stream",
          "text": [
            "Start training.\n",
            "epoch:[0] loss:[0.679] train_accr:[0.946] test_accr:[0.949].\n",
            "epoch:[1] loss:[0.225] train_accr:[0.965] test_accr:[0.968].\n",
            "epoch:[2] loss:[0.164] train_accr:[0.971] test_accr:[0.972].\n",
            "epoch:[3] loss:[0.136] train_accr:[0.978] test_accr:[0.978].\n",
            "epoch:[4] loss:[0.120] train_accr:[0.981] test_accr:[0.978].\n",
            "epoch:[5] loss:[0.104] train_accr:[0.983] test_accr:[0.981].\n",
            "epoch:[6] loss:[0.097] train_accr:[0.983] test_accr:[0.980].\n",
            "epoch:[7] loss:[0.090] train_accr:[0.987] test_accr:[0.984].\n",
            "epoch:[8] loss:[0.084] train_accr:[0.987] test_accr:[0.985].\n",
            "epoch:[9] loss:[0.082] train_accr:[0.987] test_accr:[0.985].\n",
            "Done\n"
          ],
          "name": "stdout"
        }
      ]
    },
    {
      "cell_type": "markdown",
      "metadata": {
        "id": "ceHT-OdujWMS"
      },
      "source": [
        "### Test"
      ]
    },
    {
      "cell_type": "code",
      "metadata": {
        "id": "x1CZBbCwjMh7"
      },
      "source": [
        "n_sample = 25\n",
        "sample_indices = np.random.choice(len(mnist_test.targets),n_sample,replace=False)\n",
        "test_x = mnist_test.data[sample_indices]\n",
        "test_y = mnist_test.targets[sample_indices]\n",
        "with torch.no_grad():\n",
        "    C.eval() # to evaluation mode \n",
        "    y_pred = C.forward(test_x.view(-1,1,28,28).type(torch.float).to(device)/255.)\n",
        "y_pred = y_pred.argmax(axis=1)\n",
        "plt.figure(figsize=(10,10))\n",
        "for idx in range(n_sample):\n",
        "    plt.subplot(5, 5, idx+1)\n",
        "    plt.imshow(test_x[idx], cmap='gray')\n",
        "    plt.axis('off')\n",
        "    plt.title(\"Pred:%d, Label:%d\"%(y_pred[idx],test_y[idx]))\n",
        "plt.show()    \n",
        "print (\"Done\")"
      ],
      "execution_count": null,
      "outputs": []
    },
    {
      "cell_type": "code",
      "metadata": {
        "id": "i6poTCYZj4uM"
      },
      "source": [
        ""
      ],
      "execution_count": null,
      "outputs": []
    }
  ]
}