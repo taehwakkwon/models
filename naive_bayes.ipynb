{
  "nbformat": 4,
  "nbformat_minor": 0,
  "metadata": {
    "colab": {
      "name": "1_naive_bayes",
      "provenance": [],
      "collapsed_sections": []
    },
    "kernelspec": {
      "name": "python3",
      "display_name": "Python 3"
    },
    "accelerator": "GPU"
  },
  "cells": [
    {
      "cell_type": "markdown",
      "metadata": {
        "id": "BvEk93OpD-8Q"
      },
      "source": [
        ""
      ]
    },
    {
      "cell_type": "markdown",
      "metadata": {
        "id": "btDmoiRCRfMp"
      },
      "source": [
        "## **1. NaiveBayes Classifier**\r\n",
        "1. 주어진 데이터를 전처리합니다.\r\n",
        "2. NaiveBayes 분류기 모델을 구현하고 학습 데이터로 이를 학습시킵니다.\r\n",
        "3. 간단한 test case로 결과를 확인합니다."
      ]
    },
    {
      "cell_type": "markdown",
      "metadata": {
        "id": "3a3E1pbkSYSF"
      },
      "source": [
        "### **필요 패키지 import**"
      ]
    },
    {
      "cell_type": "code",
      "metadata": {
        "id": "6GKm6PwhiGxv",
        "colab": {
          "base_uri": "https://localhost:8080/"
        },
        "outputId": "cead70ec-ca08-4abe-c747-5fbbb86d6a9d"
      },
      "source": [
        "!pip install konlpy"
      ],
      "execution_count": 1,
      "outputs": [
        {
          "output_type": "stream",
          "text": [
            "Collecting konlpy\n",
            "\u001b[?25l  Downloading https://files.pythonhosted.org/packages/85/0e/f385566fec837c0b83f216b2da65db9997b35dd675e107752005b7d392b1/konlpy-0.5.2-py2.py3-none-any.whl (19.4MB)\n",
            "\u001b[K     |████████████████████████████████| 19.4MB 1.3MB/s \n",
            "\u001b[?25hCollecting colorama\n",
            "  Downloading https://files.pythonhosted.org/packages/44/98/5b86278fbbf250d239ae0ecb724f8572af1c91f4a11edf4d36a206189440/colorama-0.4.4-py2.py3-none-any.whl\n",
            "Collecting beautifulsoup4==4.6.0\n",
            "\u001b[?25l  Downloading https://files.pythonhosted.org/packages/9e/d4/10f46e5cfac773e22707237bfcd51bbffeaf0a576b0a847ec7ab15bd7ace/beautifulsoup4-4.6.0-py3-none-any.whl (86kB)\n",
            "\u001b[K     |████████████████████████████████| 92kB 5.2MB/s \n",
            "\u001b[?25hCollecting JPype1>=0.7.0\n",
            "\u001b[?25l  Downloading https://files.pythonhosted.org/packages/de/af/93f92b38ec1ff3091cd38982ed19cea2800fefb609b5801c41fc43c0781e/JPype1-1.2.1-cp36-cp36m-manylinux2010_x86_64.whl (457kB)\n",
            "\u001b[K     |████████████████████████████████| 460kB 49.9MB/s \n",
            "\u001b[?25hCollecting tweepy>=3.7.0\n",
            "  Downloading https://files.pythonhosted.org/packages/67/c3/6bed87f3b1e5ed2f34bd58bf7978e308c86e255193916be76e5a5ce5dfca/tweepy-3.10.0-py2.py3-none-any.whl\n",
            "Requirement already satisfied: numpy>=1.6 in /usr/local/lib/python3.6/dist-packages (from konlpy) (1.19.5)\n",
            "Requirement already satisfied: lxml>=4.1.0 in /usr/local/lib/python3.6/dist-packages (from konlpy) (4.2.6)\n",
            "Requirement already satisfied: typing-extensions; python_version < \"3.8\" in /usr/local/lib/python3.6/dist-packages (from JPype1>=0.7.0->konlpy) (3.7.4.3)\n",
            "Requirement already satisfied: six>=1.10.0 in /usr/local/lib/python3.6/dist-packages (from tweepy>=3.7.0->konlpy) (1.15.0)\n",
            "Requirement already satisfied: requests-oauthlib>=0.7.0 in /usr/local/lib/python3.6/dist-packages (from tweepy>=3.7.0->konlpy) (1.3.0)\n",
            "Requirement already satisfied: requests[socks]>=2.11.1 in /usr/local/lib/python3.6/dist-packages (from tweepy>=3.7.0->konlpy) (2.23.0)\n",
            "Requirement already satisfied: oauthlib>=3.0.0 in /usr/local/lib/python3.6/dist-packages (from requests-oauthlib>=0.7.0->tweepy>=3.7.0->konlpy) (3.1.0)\n",
            "Requirement already satisfied: idna<3,>=2.5 in /usr/local/lib/python3.6/dist-packages (from requests[socks]>=2.11.1->tweepy>=3.7.0->konlpy) (2.10)\n",
            "Requirement already satisfied: urllib3!=1.25.0,!=1.25.1,<1.26,>=1.21.1 in /usr/local/lib/python3.6/dist-packages (from requests[socks]>=2.11.1->tweepy>=3.7.0->konlpy) (1.24.3)\n",
            "Requirement already satisfied: chardet<4,>=3.0.2 in /usr/local/lib/python3.6/dist-packages (from requests[socks]>=2.11.1->tweepy>=3.7.0->konlpy) (3.0.4)\n",
            "Requirement already satisfied: certifi>=2017.4.17 in /usr/local/lib/python3.6/dist-packages (from requests[socks]>=2.11.1->tweepy>=3.7.0->konlpy) (2020.12.5)\n",
            "Requirement already satisfied: PySocks!=1.5.7,>=1.5.6; extra == \"socks\" in /usr/local/lib/python3.6/dist-packages (from requests[socks]>=2.11.1->tweepy>=3.7.0->konlpy) (1.7.1)\n",
            "Installing collected packages: colorama, beautifulsoup4, JPype1, tweepy, konlpy\n",
            "  Found existing installation: beautifulsoup4 4.6.3\n",
            "    Uninstalling beautifulsoup4-4.6.3:\n",
            "      Successfully uninstalled beautifulsoup4-4.6.3\n",
            "  Found existing installation: tweepy 3.6.0\n",
            "    Uninstalling tweepy-3.6.0:\n",
            "      Successfully uninstalled tweepy-3.6.0\n",
            "Successfully installed JPype1-1.2.1 beautifulsoup4-4.6.0 colorama-0.4.4 konlpy-0.5.2 tweepy-3.10.0\n"
          ],
          "name": "stdout"
        }
      ]
    },
    {
      "cell_type": "code",
      "metadata": {
        "id": "2srhF-lp4JxL"
      },
      "source": [
        "from tqdm import tqdm\r\n",
        "\r\n",
        "# 다양한 한국어 형태소 분석기가 클래스로 구현되어 있음\r\n",
        "from konlpy import tag \r\n",
        "\r\n",
        "from collections import defaultdict\r\n",
        "\r\n",
        "import math"
      ],
      "execution_count": 2,
      "outputs": []
    },
    {
      "cell_type": "markdown",
      "metadata": {
        "id": "rpgjbzqr6UR4"
      },
      "source": [
        "### **학습 및 테스트 데이터 전처리**"
      ]
    },
    {
      "cell_type": "markdown",
      "metadata": {
        "id": "DTRXq_6G7wTk"
      },
      "source": [
        "Sample 데이터를 확인합니다.  \r\n",
        "긍정($1$), 부정($0$) 2가지 class로 구성되어 있습니다."
      ]
    },
    {
      "cell_type": "code",
      "metadata": {
        "id": "MCBnEQrfoL_C"
      },
      "source": [
        "train_data = [\r\n",
        "  \"정말 맛있습니다. 추천합니다.\",\r\n",
        "  \"기대했던 것보단 별로였네요.\",\r\n",
        "  \"다 좋은데 가격이 너무 비싸서 다시 가고 싶다는 생각이 안 드네요.\",\r\n",
        "  \"완전 최고입니다! 재방문 의사 있습니다.\",\r\n",
        "  \"음식도 서비스도 다 만족스러웠습니다.\",\r\n",
        "  \"위생 상태가 좀 별로였습니다. 좀 더 개선되기를 바랍니다.\",\r\n",
        "  \"맛도 좋았고 직원분들 서비스도 너무 친절했습니다.\",\r\n",
        "  \"기념일에 방문했는데 음식도 분위기도 서비스도 다 좋았습니다.\",\r\n",
        "  \"전반적으로 음식이 너무 짰습니다. 저는 별로였네요.\",\r\n",
        "  \"위생에 조금 더 신경 썼으면 좋겠습니다. 조금 불쾌했습니다.\"\r\n",
        "]\r\n",
        "train_labels = [1, 0, 0, 1, 1, 0, 1, 1, 0, 0]\r\n",
        "\r\n",
        "test_data = [\r\n",
        "  \"정말 좋았습니다. 또 가고 싶네요.\",\r\n",
        "  \"별로였습니다. 되도록 가지 마세요.\",\r\n",
        "  \"다른 분들께도 추천드릴 수 있을 만큼 만족했습니다.\",\r\n",
        "  \"서비스가 좀 더 개선되었으면 좋겠습니다. 기분이 좀 나빴습니다.\"\r\n",
        "]"
      ],
      "execution_count": 3,
      "outputs": []
    },
    {
      "cell_type": "markdown",
      "metadata": {
        "id": "dQ7rMLICacVN"
      },
      "source": [
        "KoNLPy 패키지에서 제공하는 Twitter(Okt) tokenizer를 사용하여 tokenization합니다."
      ]
    },
    {
      "cell_type": "code",
      "metadata": {
        "id": "bEzeYDmPjNLl"
      },
      "source": [
        "tokenizer = tag.Okt()"
      ],
      "execution_count": 4,
      "outputs": []
    },
    {
      "cell_type": "code",
      "metadata": {
        "id": "Tftxirx_7sk7"
      },
      "source": [
        "def make_tokenized(data):\r\n",
        "  tokenized = []  # 단어 단위로 나뉜 리뷰 데이터.\r\n",
        "\r\n",
        "  for sent in tqdm(data):\r\n",
        "    tokens = tokenizer.morphs(sent)\r\n",
        "    tokenized.append(tokens)\r\n",
        "\r\n",
        "  return tokenized"
      ],
      "execution_count": 5,
      "outputs": []
    },
    {
      "cell_type": "code",
      "metadata": {
        "id": "I4VEZyFlCqi-",
        "colab": {
          "base_uri": "https://localhost:8080/"
        },
        "outputId": "891dcbaf-919f-4d8b-b2a7-2e46310b50b5"
      },
      "source": [
        "train_tokenized = make_tokenized(train_data)\r\n",
        "test_tokenized = make_tokenized(test_data)"
      ],
      "execution_count": 6,
      "outputs": [
        {
          "output_type": "stream",
          "text": [
            "100%|██████████| 10/10 [00:05<00:00,  1.94it/s]\n",
            "100%|██████████| 4/4 [00:00<00:00, 129.11it/s]\n"
          ],
          "name": "stderr"
        }
      ]
    },
    {
      "cell_type": "code",
      "metadata": {
        "id": "OEhn3uv2o2kt",
        "colab": {
          "base_uri": "https://localhost:8080/"
        },
        "outputId": "f509ede0-7955-437d-f155-87d068a23599"
      },
      "source": [
        "train_tokenized"
      ],
      "execution_count": 7,
      "outputs": [
        {
          "output_type": "execute_result",
          "data": {
            "text/plain": [
              "[['정말', '맛있습니다', '.', '추천', '합니다', '.'],\n",
              " ['기대했던', '것', '보단', '별로', '였네요', '.'],\n",
              " ['다',\n",
              "  '좋은데',\n",
              "  '가격',\n",
              "  '이',\n",
              "  '너무',\n",
              "  '비싸서',\n",
              "  '다시',\n",
              "  '가고',\n",
              "  '싶다는',\n",
              "  '생각',\n",
              "  '이',\n",
              "  '안',\n",
              "  '드네',\n",
              "  '요',\n",
              "  '.'],\n",
              " ['완전', '최고', '입니다', '!', '재', '방문', '의사', '있습니다', '.'],\n",
              " ['음식', '도', '서비스', '도', '다', '만족스러웠습니다', '.'],\n",
              " ['위생',\n",
              "  '상태',\n",
              "  '가',\n",
              "  '좀',\n",
              "  '별로',\n",
              "  '였습니다',\n",
              "  '.',\n",
              "  '좀',\n",
              "  '더',\n",
              "  '개선',\n",
              "  '되',\n",
              "  '기를',\n",
              "  '바랍니다',\n",
              "  '.'],\n",
              " ['맛', '도', '좋았고', '직원', '분들', '서비스', '도', '너무', '친절했습니다', '.'],\n",
              " ['기념일',\n",
              "  '에',\n",
              "  '방문',\n",
              "  '했는데',\n",
              "  '음식',\n",
              "  '도',\n",
              "  '분위기',\n",
              "  '도',\n",
              "  '서비스',\n",
              "  '도',\n",
              "  '다',\n",
              "  '좋았습니다',\n",
              "  '.'],\n",
              " ['전반', '적', '으로', '음식', '이', '너무', '짰습니다', '.', '저', '는', '별로', '였네요', '.'],\n",
              " ['위생', '에', '조금', '더', '신경', '썼으면', '좋겠습니다', '.', '조금', '불쾌했습니다', '.']]"
            ]
          },
          "metadata": {
            "tags": []
          },
          "execution_count": 7
        }
      ]
    },
    {
      "cell_type": "markdown",
      "metadata": {
        "id": "SVPd7lQjbfNO"
      },
      "source": [
        "학습데이터 기준으로 가장 많이 등장한 단어부터 순서대로 vocab에 추가합니다."
      ]
    },
    {
      "cell_type": "code",
      "metadata": {
        "id": "w1S1egKgeJzM",
        "colab": {
          "base_uri": "https://localhost:8080/"
        },
        "outputId": "ce3d442a-1b0d-4e4a-e1a1-7527cba1a7e3"
      },
      "source": [
        "word_count = defaultdict(int)  # Key: 단어, Value: 등장 횟수\r\n",
        "\r\n",
        "for tokens in tqdm(train_tokenized):\r\n",
        "  for token in tokens:\r\n",
        "    word_count[token] += 1"
      ],
      "execution_count": 8,
      "outputs": [
        {
          "output_type": "stream",
          "text": [
            "100%|██████████| 10/10 [00:00<00:00, 42323.96it/s]\n"
          ],
          "name": "stderr"
        }
      ]
    },
    {
      "cell_type": "code",
      "metadata": {
        "id": "I0LPetURIdxK",
        "colab": {
          "base_uri": "https://localhost:8080/"
        },
        "outputId": "4566c0ab-4843-4abb-d5a1-18521b38feaf"
      },
      "source": [
        "word_count = sorted(word_count.items(), key=lambda x: x[1], reverse=True)\r\n",
        "print(len(word_count))"
      ],
      "execution_count": 9,
      "outputs": [
        {
          "output_type": "stream",
          "text": [
            "66\n"
          ],
          "name": "stdout"
        }
      ]
    },
    {
      "cell_type": "code",
      "metadata": {
        "id": "tI2p2T1CJMlB",
        "colab": {
          "base_uri": "https://localhost:8080/"
        },
        "outputId": "86a0a458-e960-4c12-ad9b-ab75f71f4931"
      },
      "source": [
        "w2i = {}  # Key: 단어, Value: 단어의 index\r\n",
        "for pair in tqdm(word_count):\r\n",
        "  if pair[0] not in w2i:\r\n",
        "    w2i[pair[0]] = len(w2i)"
      ],
      "execution_count": 10,
      "outputs": [
        {
          "output_type": "stream",
          "text": [
            "100%|██████████| 66/66 [00:00<00:00, 145162.07it/s]\n"
          ],
          "name": "stderr"
        }
      ]
    },
    {
      "cell_type": "code",
      "metadata": {
        "id": "cG3kuKkNKj0Z",
        "colab": {
          "base_uri": "https://localhost:8080/"
        },
        "outputId": "6b3b59d6-3ccf-40ac-e5af-374ee9ed8b1c"
      },
      "source": [
        "len(w2i)"
      ],
      "execution_count": 11,
      "outputs": [
        {
          "output_type": "execute_result",
          "data": {
            "text/plain": [
              "66"
            ]
          },
          "metadata": {
            "tags": []
          },
          "execution_count": 11
        }
      ]
    },
    {
      "cell_type": "code",
      "metadata": {
        "id": "XIy3zcUSXNuR",
        "colab": {
          "base_uri": "https://localhost:8080/"
        },
        "outputId": "2eb7f2e8-00b6-4989-8e60-b5f18e4b1e3b"
      },
      "source": [
        "w2i"
      ],
      "execution_count": 12,
      "outputs": [
        {
          "output_type": "execute_result",
          "data": {
            "text/plain": [
              "{'!': 35,\n",
              " '.': 0,\n",
              " '가': 41,\n",
              " '가격': 23,\n",
              " '가고': 26,\n",
              " '개선': 43,\n",
              " '것': 20,\n",
              " '기념일': 52,\n",
              " '기대했던': 19,\n",
              " '기를': 45,\n",
              " '너무': 5,\n",
              " '는': 61,\n",
              " '다': 3,\n",
              " '다시': 25,\n",
              " '더': 12,\n",
              " '도': 1,\n",
              " '되': 44,\n",
              " '드네': 30,\n",
              " '만족스러웠습니다': 39,\n",
              " '맛': 47,\n",
              " '맛있습니다': 16,\n",
              " '바랍니다': 46,\n",
              " '방문': 9,\n",
              " '별로': 2,\n",
              " '보단': 21,\n",
              " '분들': 50,\n",
              " '분위기': 54,\n",
              " '불쾌했습니다': 65,\n",
              " '비싸서': 24,\n",
              " '상태': 40,\n",
              " '생각': 28,\n",
              " '서비스': 7,\n",
              " '신경': 62,\n",
              " '싶다는': 27,\n",
              " '썼으면': 63,\n",
              " '안': 29,\n",
              " '에': 13,\n",
              " '였네요': 8,\n",
              " '였습니다': 42,\n",
              " '완전': 32,\n",
              " '요': 31,\n",
              " '위생': 10,\n",
              " '으로': 58,\n",
              " '음식': 6,\n",
              " '의사': 37,\n",
              " '이': 4,\n",
              " '입니다': 34,\n",
              " '있습니다': 38,\n",
              " '재': 36,\n",
              " '저': 60,\n",
              " '적': 57,\n",
              " '전반': 56,\n",
              " '정말': 15,\n",
              " '조금': 14,\n",
              " '좀': 11,\n",
              " '좋겠습니다': 64,\n",
              " '좋았고': 48,\n",
              " '좋았습니다': 55,\n",
              " '좋은데': 22,\n",
              " '직원': 49,\n",
              " '짰습니다': 59,\n",
              " '최고': 33,\n",
              " '추천': 17,\n",
              " '친절했습니다': 51,\n",
              " '합니다': 18,\n",
              " '했는데': 53}"
            ]
          },
          "metadata": {
            "tags": []
          },
          "execution_count": 12
        }
      ]
    },
    {
      "cell_type": "markdown",
      "metadata": {
        "id": "85oCOe0Xqcwk"
      },
      "source": [
        "### **모델 Class 구현**"
      ]
    },
    {
      "cell_type": "markdown",
      "metadata": {
        "id": "w3uuFi52qjh6"
      },
      "source": [
        "NaiveBayes Classifier 모델 클래스를 구현합니다.\r\n",
        "\r\n",
        "*   `self.k`: Smoothing을 위한 상수.\r\n",
        "*   `self.w2i`: 사전에 구한 vocab.\r\n",
        "*   `self.priors`: 각 class의 prior 확률.\r\n",
        "*   `self.likelihoods`: 각 token의 특정 class 조건 내에서의 likelihood.\r\n"
      ]
    },
    {
      "cell_type": "code",
      "metadata": {
        "id": "TsZlgjkBHAod"
      },
      "source": [
        "class NaiveBayesClassifier():\r\n",
        "  def __init__(self, w2i, k=0.1):\r\n",
        "    self.k = k\r\n",
        "    self.w2i = w2i\r\n",
        "    self.priors = {}\r\n",
        "    self.likelihoods = {}\r\n",
        "\r\n",
        "  def train(self, train_tokenized, train_labels):\r\n",
        "    self.set_priors(train_labels)  # Priors 계산.\r\n",
        "    self.set_likelihoods(train_tokenized, train_labels)  # Likelihoods 계산.\r\n",
        "\r\n",
        "  def inference(self, tokens):\r\n",
        "    log_prob0 = 0.0\r\n",
        "    log_prob1 = 0.0\r\n",
        "\r\n",
        "    for token in tokens:\r\n",
        "      if token in self.likelihoods:  # 학습 당시 추가했던 단어에 대해서만 고려.\r\n",
        "        log_prob0 += math.log(self.likelihoods[token][0])\r\n",
        "        log_prob1 += math.log(self.likelihoods[token][1])\r\n",
        "\r\n",
        "    # 마지막에 prior를 고려.\r\n",
        "    log_prob0 += math.log(self.priors[0])\r\n",
        "    log_prob1 += math.log(self.priors[1])\r\n",
        "\r\n",
        "    if log_prob0 >= log_prob1:\r\n",
        "      return 0\r\n",
        "    else:\r\n",
        "      return 1\r\n",
        "\r\n",
        "  def set_priors(self, train_labels):\r\n",
        "    class_counts = defaultdict(int)\r\n",
        "    for label in tqdm(train_labels):\r\n",
        "      class_counts[label] += 1\r\n",
        "    \r\n",
        "    for label, count in class_counts.items():\r\n",
        "      self.priors[label] = class_counts[label] / len(train_labels)\r\n",
        "\r\n",
        "  def set_likelihoods(self, train_tokenized, train_labels):\r\n",
        "    token_dists = {}  # 각 단어의 특정 class 조건 하에서의 등장 횟수.\r\n",
        "    class_counts = defaultdict(int)  # 특정 class에서 등장한 모든 단어의 등장 횟수.\r\n",
        "\r\n",
        "    for i, label in enumerate(tqdm(train_labels)):\r\n",
        "      count = 0\r\n",
        "      for token in train_tokenized[i]:\r\n",
        "        if token in self.w2i:  # 학습 데이터로 구축한 vocab에 있는 token만 고려.\r\n",
        "          if token not in token_dists:\r\n",
        "            token_dists[token] = {0:0, 1:0}\r\n",
        "          token_dists[token][label] += 1\r\n",
        "          count += 1\r\n",
        "      class_counts[label] += count\r\n",
        "\r\n",
        "    for token, dist in tqdm(token_dists.items()):\r\n",
        "      if token not in self.likelihoods:\r\n",
        "        self.likelihoods[token] = {\r\n",
        "            0:(token_dists[token][0] + self.k) / (class_counts[0] + len(self.w2i)*self.k),\r\n",
        "            1:(token_dists[token][1] + self.k) / (class_counts[1] + len(self.w2i)*self.k),\r\n",
        "        }"
      ],
      "execution_count": 13,
      "outputs": []
    },
    {
      "cell_type": "markdown",
      "metadata": {
        "id": "xzjVUyBOQEJk"
      },
      "source": [
        "### **모델 학습**"
      ]
    },
    {
      "cell_type": "markdown",
      "metadata": {
        "id": "HuE3mFM46VBP"
      },
      "source": [
        "모델 객체를 만들고 학습 데이터로 학습시킵니다."
      ]
    },
    {
      "cell_type": "code",
      "metadata": {
        "id": "Wt-iUEVRNsRj",
        "colab": {
          "base_uri": "https://localhost:8080/"
        },
        "outputId": "cc73bde9-c1d5-468b-c014-7d19026dfc88"
      },
      "source": [
        "classifier = NaiveBayesClassifier(w2i)\r\n",
        "classifier.train(train_tokenized, train_labels)"
      ],
      "execution_count": 14,
      "outputs": [
        {
          "output_type": "stream",
          "text": [
            "100%|██████████| 10/10 [00:00<00:00, 12925.44it/s]\n",
            "100%|██████████| 10/10 [00:00<00:00, 12610.66it/s]\n",
            "100%|██████████| 66/66 [00:00<00:00, 71995.86it/s]\n"
          ],
          "name": "stderr"
        }
      ]
    },
    {
      "cell_type": "markdown",
      "metadata": {
        "id": "h79XWrsnQJtN"
      },
      "source": [
        "### **테스트**"
      ]
    },
    {
      "cell_type": "markdown",
      "metadata": {
        "id": "Pjk05W136d5o"
      },
      "source": [
        "Test sample에 대한 결과는 다음과 같습니다."
      ]
    },
    {
      "cell_type": "code",
      "metadata": {
        "id": "Fe-fOScGNzH3",
        "colab": {
          "base_uri": "https://localhost:8080/"
        },
        "outputId": "7f01c320-2e03-4dfb-c0ce-ca596ff04c28"
      },
      "source": [
        "preds = []\r\n",
        "for test_tokens in tqdm(test_tokenized):\r\n",
        "  pred = classifier.inference(test_tokens)\r\n",
        "  preds.append(pred)"
      ],
      "execution_count": 15,
      "outputs": [
        {
          "output_type": "stream",
          "text": [
            "100%|██████████| 4/4 [00:00<00:00, 21024.08it/s]\n"
          ],
          "name": "stderr"
        }
      ]
    },
    {
      "cell_type": "code",
      "metadata": {
        "id": "hrYMTKM10vYk",
        "colab": {
          "base_uri": "https://localhost:8080/"
        },
        "outputId": "1f7271de-801f-4bc5-c078-2ebecd4da44a"
      },
      "source": [
        "preds"
      ],
      "execution_count": 16,
      "outputs": [
        {
          "output_type": "execute_result",
          "data": {
            "text/plain": [
              "[1, 0, 1, 0]"
            ]
          },
          "metadata": {
            "tags": []
          },
          "execution_count": 16
        }
      ]
    },
    {
      "cell_type": "code",
      "metadata": {
        "id": "4b68-Bh5zArE"
      },
      "source": [
        ""
      ],
      "execution_count": 16,
      "outputs": []
    }
  ]
}